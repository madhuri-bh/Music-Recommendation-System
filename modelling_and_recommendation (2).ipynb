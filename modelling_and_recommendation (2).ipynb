{
  "nbformat": 4,
  "nbformat_minor": 0,
  "metadata": {
    "colab": {
      "name": "modelling_and_recommendation.ipynb",
      "provenance": [],
      "collapsed_sections": []
    },
    "kernelspec": {
      "display_name": "Python 3",
      "language": "python",
      "name": "python3"
    },
    "language_info": {
      "codemirror_mode": {
        "name": "ipython",
        "version": 3
      },
      "file_extension": ".py",
      "mimetype": "text/x-python",
      "name": "python",
      "nbconvert_exporter": "python",
      "pygments_lexer": "ipython3",
      "version": "3.8.3"
    }
  },
  "cells": [
    {
      "cell_type": "markdown",
      "metadata": {
        "id": "WIcp9NPUBjcg"
      },
      "source": [
        "# Building a Spotify Recommendation System. "
      ]
    },
    {
      "cell_type": "markdown",
      "metadata": {
        "id": "oC4VJPzfBjco"
      },
      "source": [
        "In this notebook we will se how to connect to spotify api to get playlists and extract necessary information from it and build a recommendation system to get similar songs.\n",
        "<br>Process involved\n",
        "<br>1.Connecting to Spotify API.\n",
        "<BR>2.Vectorizing the playlist\n",
        "<br>3.Building recommendation system"
      ]
    },
    {
      "cell_type": "code",
      "metadata": {
        "colab": {
          "base_uri": "https://localhost:8080/"
        },
        "id": "DJg8j6UnXBBv",
        "outputId": "da5c4ca8-fdfa-4c61-8323-8e2da02df7dc"
      },
      "source": [
        "!pip install spotipy"
      ],
      "execution_count": null,
      "outputs": [
        {
          "output_type": "stream",
          "text": [
            "Collecting spotipy\n",
            "  Downloading spotipy-2.18.0-py3-none-any.whl (26 kB)\n",
            "Requirement already satisfied: six>=1.15.0 in /usr/local/lib/python3.7/dist-packages (from spotipy) (1.15.0)\n",
            "Collecting urllib3>=1.26.0\n",
            "  Downloading urllib3-1.26.6-py2.py3-none-any.whl (138 kB)\n",
            "\u001b[?25l\r\u001b[K     |██▍                             | 10 kB 31.9 MB/s eta 0:00:01\r\u001b[K     |████▊                           | 20 kB 31.4 MB/s eta 0:00:01\r\u001b[K     |███████                         | 30 kB 37.5 MB/s eta 0:00:01\r\u001b[K     |█████████▌                      | 40 kB 27.7 MB/s eta 0:00:01\r\u001b[K     |███████████▉                    | 51 kB 22.3 MB/s eta 0:00:01\r\u001b[K     |██████████████▏                 | 61 kB 8.2 MB/s eta 0:00:01\r\u001b[K     |████████████████▋               | 71 kB 9.0 MB/s eta 0:00:01\r\u001b[K     |███████████████████             | 81 kB 10.0 MB/s eta 0:00:01\r\u001b[K     |█████████████████████▎          | 92 kB 10.6 MB/s eta 0:00:01\r\u001b[K     |███████████████████████▋        | 102 kB 11.3 MB/s eta 0:00:01\r\u001b[K     |██████████████████████████      | 112 kB 11.3 MB/s eta 0:00:01\r\u001b[K     |████████████████████████████▍   | 122 kB 11.3 MB/s eta 0:00:01\r\u001b[K     |██████████████████████████████▊ | 133 kB 11.3 MB/s eta 0:00:01\r\u001b[K     |████████████████████████████████| 138 kB 11.3 MB/s \n",
            "\u001b[?25hCollecting requests>=2.25.0\n",
            "  Downloading requests-2.26.0-py2.py3-none-any.whl (62 kB)\n",
            "\u001b[?25l\r\u001b[K     |█████▎                          | 10 kB 28.8 MB/s eta 0:00:01\r\u001b[K     |██████████▌                     | 20 kB 37.3 MB/s eta 0:00:01\r\u001b[K     |███████████████▉                | 30 kB 42.1 MB/s eta 0:00:01\r\u001b[K     |█████████████████████           | 40 kB 46.8 MB/s eta 0:00:01\r\u001b[K     |██████████████████████████▎     | 51 kB 50.2 MB/s eta 0:00:01\r\u001b[K     |███████████████████████████████▋| 61 kB 53.7 MB/s eta 0:00:01\r\u001b[K     |████████████████████████████████| 62 kB 1.1 MB/s \n",
            "\u001b[?25hRequirement already satisfied: certifi>=2017.4.17 in /usr/local/lib/python3.7/dist-packages (from requests>=2.25.0->spotipy) (2021.5.30)\n",
            "Requirement already satisfied: charset-normalizer~=2.0.0 in /usr/local/lib/python3.7/dist-packages (from requests>=2.25.0->spotipy) (2.0.2)\n",
            "Requirement already satisfied: idna<4,>=2.5 in /usr/local/lib/python3.7/dist-packages (from requests>=2.25.0->spotipy) (2.10)\n",
            "Installing collected packages: urllib3, requests, spotipy\n",
            "  Attempting uninstall: urllib3\n",
            "    Found existing installation: urllib3 1.24.3\n",
            "    Uninstalling urllib3-1.24.3:\n",
            "      Successfully uninstalled urllib3-1.24.3\n",
            "  Attempting uninstall: requests\n",
            "    Found existing installation: requests 2.23.0\n",
            "    Uninstalling requests-2.23.0:\n",
            "      Successfully uninstalled requests-2.23.0\n",
            "\u001b[31mERROR: pip's dependency resolver does not currently take into account all the packages that are installed. This behaviour is the source of the following dependency conflicts.\n",
            "google-colab 1.0.0 requires requests~=2.23.0, but you have requests 2.26.0 which is incompatible.\n",
            "datascience 0.10.6 requires folium==0.2.1, but you have folium 0.8.3 which is incompatible.\u001b[0m\n",
            "Successfully installed requests-2.26.0 spotipy-2.18.0 urllib3-1.26.6\n"
          ],
          "name": "stdout"
        }
      ]
    },
    {
      "cell_type": "code",
      "metadata": {
        "id": "hhNeQob_Bjct"
      },
      "source": [
        "import spotipy\n",
        "from spotipy.oauth2 import SpotifyClientCredentials\n",
        "import pandas as pd\n",
        "import numpy as np\n",
        "import time \n",
        "import datetime\n",
        "from sklearn.metrics.pairwise import cosine_similarity\n",
        "from scipy import sparse\n",
        "\n",
        "from sklearn.pipeline import Pipeline\n",
        "import warnings\n",
        "\n",
        "import matplotlib.pyplot as plt\n",
        "import seaborn as sns\n",
        "from mpl_toolkits.mplot3d import Axes3D\n",
        "from math import pi, ceil\n",
        "from sklearn.cluster import KMeans\n",
        "from sklearn.preprocessing import StandardScaler, MinMaxScaler\n",
        "from sklearn.manifold import TSNE\n",
        "from sklearn.decomposition import PCA\n",
        "from sklearn.metrics import silhouette_score\n"
      ],
      "execution_count": null,
      "outputs": []
    },
    {
      "cell_type": "code",
      "metadata": {
        "id": "HrDYadymBjcz"
      },
      "source": [
        "song_df=pd.read_csv(\"cleaned_data_spotify_final.csv\")\n",
        "song_df.drop('Unnamed: 0',axis=1,inplace=True)"
      ],
      "execution_count": null,
      "outputs": []
    },
    {
      "cell_type": "code",
      "metadata": {
        "id": "9st_i95_Bjc1"
      },
      "source": [
        "client_id = '7573e000a6a54da2acaef0edd94a3236'\n",
        "client_secret ='632231db7c1244c88614a03b231691fa'\n",
        "\n",
        "\n",
        "client_credentials_manager = SpotifyClientCredentials(client_id, client_secret)\n",
        "spotify = spotipy.Spotify(client_credentials_manager=client_credentials_manager)"
      ],
      "execution_count": null,
      "outputs": []
    },
    {
      "cell_type": "code",
      "metadata": {
        "colab": {
          "base_uri": "https://localhost:8080/",
          "height": 656
        },
        "id": "DoSB2xzGBjc3",
        "outputId": "08fda43e-deea-4465-a3b3-7883f1157744"
      },
      "source": [
        "song_df"
      ],
      "execution_count": null,
      "outputs": [
        {
          "output_type": "execute_result",
          "data": {
            "text/html": [
              "<div>\n",
              "<style scoped>\n",
              "    .dataframe tbody tr th:only-of-type {\n",
              "        vertical-align: middle;\n",
              "    }\n",
              "\n",
              "    .dataframe tbody tr th {\n",
              "        vertical-align: top;\n",
              "    }\n",
              "\n",
              "    .dataframe thead th {\n",
              "        text-align: right;\n",
              "    }\n",
              "</style>\n",
              "<table border=\"1\" class=\"dataframe\">\n",
              "  <thead>\n",
              "    <tr style=\"text-align: right;\">\n",
              "      <th></th>\n",
              "      <th>index</th>\n",
              "      <th>valence</th>\n",
              "      <th>acousticness</th>\n",
              "      <th>year</th>\n",
              "      <th>artists</th>\n",
              "      <th>danceability</th>\n",
              "      <th>duration_ms</th>\n",
              "      <th>energy</th>\n",
              "      <th>instrumentalness</th>\n",
              "      <th>loudness</th>\n",
              "      <th>key</th>\n",
              "      <th>liveness</th>\n",
              "      <th>name</th>\n",
              "      <th>popularity</th>\n",
              "      <th>speechiness</th>\n",
              "      <th>tempo</th>\n",
              "      <th>A Minor</th>\n",
              "      <th>Ab Major</th>\n",
              "      <th>Ab Minor</th>\n",
              "      <th>B Major</th>\n",
              "      <th>B Minor</th>\n",
              "      <th>Bb Major</th>\n",
              "      <th>Bb Minor</th>\n",
              "      <th>C Major</th>\n",
              "      <th>C Minor</th>\n",
              "      <th>D Major</th>\n",
              "      <th>D Minor</th>\n",
              "      <th>Db Major</th>\n",
              "      <th>Db Minor</th>\n",
              "      <th>E Major</th>\n",
              "      <th>E Minor</th>\n",
              "      <th>Eb Major</th>\n",
              "      <th>Eb Minor</th>\n",
              "      <th>F Major</th>\n",
              "      <th>F Minor</th>\n",
              "      <th>F# Major</th>\n",
              "      <th>F# Minor</th>\n",
              "      <th>G Major</th>\n",
              "      <th>G Minor</th>\n",
              "      <th>1930s</th>\n",
              "      <th>1940s</th>\n",
              "      <th>1950s</th>\n",
              "      <th>1960s</th>\n",
              "      <th>1970s</th>\n",
              "      <th>1980s</th>\n",
              "      <th>1990s</th>\n",
              "      <th>2000s</th>\n",
              "      <th>2010s</th>\n",
              "      <th>2020s</th>\n",
              "    </tr>\n",
              "  </thead>\n",
              "  <tbody>\n",
              "    <tr>\n",
              "      <th>0</th>\n",
              "      <td>0</td>\n",
              "      <td>0.688</td>\n",
              "      <td>0.33500</td>\n",
              "      <td>2021</td>\n",
              "      <td>Olivia Rodrigo</td>\n",
              "      <td>0.563</td>\n",
              "      <td>178146</td>\n",
              "      <td>0.664</td>\n",
              "      <td>0.000000</td>\n",
              "      <td>-5.044</td>\n",
              "      <td>9</td>\n",
              "      <td>0.0849</td>\n",
              "      <td>good 4 u</td>\n",
              "      <td>100</td>\n",
              "      <td>0.1540</td>\n",
              "      <td>166.928</td>\n",
              "      <td>0</td>\n",
              "      <td>0</td>\n",
              "      <td>0</td>\n",
              "      <td>0</td>\n",
              "      <td>0</td>\n",
              "      <td>0</td>\n",
              "      <td>0</td>\n",
              "      <td>0</td>\n",
              "      <td>0</td>\n",
              "      <td>0</td>\n",
              "      <td>0</td>\n",
              "      <td>0</td>\n",
              "      <td>0</td>\n",
              "      <td>0</td>\n",
              "      <td>0</td>\n",
              "      <td>0</td>\n",
              "      <td>0</td>\n",
              "      <td>0</td>\n",
              "      <td>0</td>\n",
              "      <td>0</td>\n",
              "      <td>0</td>\n",
              "      <td>0</td>\n",
              "      <td>0</td>\n",
              "      <td>0</td>\n",
              "      <td>0</td>\n",
              "      <td>0</td>\n",
              "      <td>0</td>\n",
              "      <td>0</td>\n",
              "      <td>0</td>\n",
              "      <td>0</td>\n",
              "      <td>0</td>\n",
              "      <td>0</td>\n",
              "      <td>1</td>\n",
              "    </tr>\n",
              "    <tr>\n",
              "      <th>1</th>\n",
              "      <td>1</td>\n",
              "      <td>0.758</td>\n",
              "      <td>0.29700</td>\n",
              "      <td>2021</td>\n",
              "      <td>Lil Nas X</td>\n",
              "      <td>0.610</td>\n",
              "      <td>137875</td>\n",
              "      <td>0.508</td>\n",
              "      <td>0.000000</td>\n",
              "      <td>-6.682</td>\n",
              "      <td>8</td>\n",
              "      <td>0.3840</td>\n",
              "      <td>MONTERO (Call Me By Your Name)</td>\n",
              "      <td>98</td>\n",
              "      <td>0.1520</td>\n",
              "      <td>178.818</td>\n",
              "      <td>0</td>\n",
              "      <td>0</td>\n",
              "      <td>1</td>\n",
              "      <td>0</td>\n",
              "      <td>0</td>\n",
              "      <td>0</td>\n",
              "      <td>0</td>\n",
              "      <td>0</td>\n",
              "      <td>0</td>\n",
              "      <td>0</td>\n",
              "      <td>0</td>\n",
              "      <td>0</td>\n",
              "      <td>0</td>\n",
              "      <td>0</td>\n",
              "      <td>0</td>\n",
              "      <td>0</td>\n",
              "      <td>0</td>\n",
              "      <td>0</td>\n",
              "      <td>0</td>\n",
              "      <td>0</td>\n",
              "      <td>0</td>\n",
              "      <td>0</td>\n",
              "      <td>0</td>\n",
              "      <td>0</td>\n",
              "      <td>0</td>\n",
              "      <td>0</td>\n",
              "      <td>0</td>\n",
              "      <td>0</td>\n",
              "      <td>0</td>\n",
              "      <td>0</td>\n",
              "      <td>0</td>\n",
              "      <td>0</td>\n",
              "      <td>1</td>\n",
              "    </tr>\n",
              "    <tr>\n",
              "      <th>2</th>\n",
              "      <td>2</td>\n",
              "      <td>0.483</td>\n",
              "      <td>0.01370</td>\n",
              "      <td>2020</td>\n",
              "      <td>MOMO Soundz</td>\n",
              "      <td>0.766</td>\n",
              "      <td>174392</td>\n",
              "      <td>0.718</td>\n",
              "      <td>0.003530</td>\n",
              "      <td>-6.270</td>\n",
              "      <td>11</td>\n",
              "      <td>0.1150</td>\n",
              "      <td>Down</td>\n",
              "      <td>57</td>\n",
              "      <td>0.0315</td>\n",
              "      <td>126.077</td>\n",
              "      <td>0</td>\n",
              "      <td>0</td>\n",
              "      <td>0</td>\n",
              "      <td>0</td>\n",
              "      <td>1</td>\n",
              "      <td>0</td>\n",
              "      <td>0</td>\n",
              "      <td>0</td>\n",
              "      <td>0</td>\n",
              "      <td>0</td>\n",
              "      <td>0</td>\n",
              "      <td>0</td>\n",
              "      <td>0</td>\n",
              "      <td>0</td>\n",
              "      <td>0</td>\n",
              "      <td>0</td>\n",
              "      <td>0</td>\n",
              "      <td>0</td>\n",
              "      <td>0</td>\n",
              "      <td>0</td>\n",
              "      <td>0</td>\n",
              "      <td>0</td>\n",
              "      <td>0</td>\n",
              "      <td>0</td>\n",
              "      <td>0</td>\n",
              "      <td>0</td>\n",
              "      <td>0</td>\n",
              "      <td>0</td>\n",
              "      <td>0</td>\n",
              "      <td>0</td>\n",
              "      <td>0</td>\n",
              "      <td>0</td>\n",
              "      <td>1</td>\n",
              "    </tr>\n",
              "    <tr>\n",
              "      <th>3</th>\n",
              "      <td>3</td>\n",
              "      <td>0.742</td>\n",
              "      <td>0.23500</td>\n",
              "      <td>2021</td>\n",
              "      <td>Doja Cat</td>\n",
              "      <td>0.762</td>\n",
              "      <td>208866</td>\n",
              "      <td>0.701</td>\n",
              "      <td>0.000158</td>\n",
              "      <td>-3.541</td>\n",
              "      <td>8</td>\n",
              "      <td>0.1230</td>\n",
              "      <td>Kiss Me More (feat. SZA)</td>\n",
              "      <td>96</td>\n",
              "      <td>0.0286</td>\n",
              "      <td>110.968</td>\n",
              "      <td>0</td>\n",
              "      <td>1</td>\n",
              "      <td>0</td>\n",
              "      <td>0</td>\n",
              "      <td>0</td>\n",
              "      <td>0</td>\n",
              "      <td>0</td>\n",
              "      <td>0</td>\n",
              "      <td>0</td>\n",
              "      <td>0</td>\n",
              "      <td>0</td>\n",
              "      <td>0</td>\n",
              "      <td>0</td>\n",
              "      <td>0</td>\n",
              "      <td>0</td>\n",
              "      <td>0</td>\n",
              "      <td>0</td>\n",
              "      <td>0</td>\n",
              "      <td>0</td>\n",
              "      <td>0</td>\n",
              "      <td>0</td>\n",
              "      <td>0</td>\n",
              "      <td>0</td>\n",
              "      <td>0</td>\n",
              "      <td>0</td>\n",
              "      <td>0</td>\n",
              "      <td>0</td>\n",
              "      <td>0</td>\n",
              "      <td>0</td>\n",
              "      <td>0</td>\n",
              "      <td>0</td>\n",
              "      <td>0</td>\n",
              "      <td>1</td>\n",
              "    </tr>\n",
              "    <tr>\n",
              "      <th>4</th>\n",
              "      <td>4</td>\n",
              "      <td>0.589</td>\n",
              "      <td>0.12700</td>\n",
              "      <td>2017</td>\n",
              "      <td>Måneskin</td>\n",
              "      <td>0.714</td>\n",
              "      <td>211560</td>\n",
              "      <td>0.800</td>\n",
              "      <td>0.000000</td>\n",
              "      <td>-4.808</td>\n",
              "      <td>11</td>\n",
              "      <td>0.3590</td>\n",
              "      <td>Beggin'</td>\n",
              "      <td>99</td>\n",
              "      <td>0.0504</td>\n",
              "      <td>134.002</td>\n",
              "      <td>0</td>\n",
              "      <td>0</td>\n",
              "      <td>0</td>\n",
              "      <td>0</td>\n",
              "      <td>1</td>\n",
              "      <td>0</td>\n",
              "      <td>0</td>\n",
              "      <td>0</td>\n",
              "      <td>0</td>\n",
              "      <td>0</td>\n",
              "      <td>0</td>\n",
              "      <td>0</td>\n",
              "      <td>0</td>\n",
              "      <td>0</td>\n",
              "      <td>0</td>\n",
              "      <td>0</td>\n",
              "      <td>0</td>\n",
              "      <td>0</td>\n",
              "      <td>0</td>\n",
              "      <td>0</td>\n",
              "      <td>0</td>\n",
              "      <td>0</td>\n",
              "      <td>0</td>\n",
              "      <td>0</td>\n",
              "      <td>0</td>\n",
              "      <td>0</td>\n",
              "      <td>0</td>\n",
              "      <td>0</td>\n",
              "      <td>0</td>\n",
              "      <td>0</td>\n",
              "      <td>0</td>\n",
              "      <td>1</td>\n",
              "      <td>0</td>\n",
              "    </tr>\n",
              "    <tr>\n",
              "      <th>...</th>\n",
              "      <td>...</td>\n",
              "      <td>...</td>\n",
              "      <td>...</td>\n",
              "      <td>...</td>\n",
              "      <td>...</td>\n",
              "      <td>...</td>\n",
              "      <td>...</td>\n",
              "      <td>...</td>\n",
              "      <td>...</td>\n",
              "      <td>...</td>\n",
              "      <td>...</td>\n",
              "      <td>...</td>\n",
              "      <td>...</td>\n",
              "      <td>...</td>\n",
              "      <td>...</td>\n",
              "      <td>...</td>\n",
              "      <td>...</td>\n",
              "      <td>...</td>\n",
              "      <td>...</td>\n",
              "      <td>...</td>\n",
              "      <td>...</td>\n",
              "      <td>...</td>\n",
              "      <td>...</td>\n",
              "      <td>...</td>\n",
              "      <td>...</td>\n",
              "      <td>...</td>\n",
              "      <td>...</td>\n",
              "      <td>...</td>\n",
              "      <td>...</td>\n",
              "      <td>...</td>\n",
              "      <td>...</td>\n",
              "      <td>...</td>\n",
              "      <td>...</td>\n",
              "      <td>...</td>\n",
              "      <td>...</td>\n",
              "      <td>...</td>\n",
              "      <td>...</td>\n",
              "      <td>...</td>\n",
              "      <td>...</td>\n",
              "      <td>...</td>\n",
              "      <td>...</td>\n",
              "      <td>...</td>\n",
              "      <td>...</td>\n",
              "      <td>...</td>\n",
              "      <td>...</td>\n",
              "      <td>...</td>\n",
              "      <td>...</td>\n",
              "      <td>...</td>\n",
              "      <td>...</td>\n",
              "    </tr>\n",
              "    <tr>\n",
              "      <th>27230</th>\n",
              "      <td>171180</td>\n",
              "      <td>0.608</td>\n",
              "      <td>0.08460</td>\n",
              "      <td>2020</td>\n",
              "      <td>['Anuel AA', 'Daddy Yankee', 'KAROL G', 'Ozuna...</td>\n",
              "      <td>0.786</td>\n",
              "      <td>301714</td>\n",
              "      <td>0.808</td>\n",
              "      <td>0.000289</td>\n",
              "      <td>-3.702</td>\n",
              "      <td>7</td>\n",
              "      <td>0.0822</td>\n",
              "      <td>China</td>\n",
              "      <td>72</td>\n",
              "      <td>0.0881</td>\n",
              "      <td>105.029</td>\n",
              "      <td>0</td>\n",
              "      <td>0</td>\n",
              "      <td>0</td>\n",
              "      <td>0</td>\n",
              "      <td>0</td>\n",
              "      <td>0</td>\n",
              "      <td>0</td>\n",
              "      <td>0</td>\n",
              "      <td>0</td>\n",
              "      <td>0</td>\n",
              "      <td>0</td>\n",
              "      <td>0</td>\n",
              "      <td>0</td>\n",
              "      <td>0</td>\n",
              "      <td>0</td>\n",
              "      <td>0</td>\n",
              "      <td>0</td>\n",
              "      <td>0</td>\n",
              "      <td>0</td>\n",
              "      <td>0</td>\n",
              "      <td>0</td>\n",
              "      <td>1</td>\n",
              "      <td>0</td>\n",
              "      <td>0</td>\n",
              "      <td>0</td>\n",
              "      <td>0</td>\n",
              "      <td>0</td>\n",
              "      <td>0</td>\n",
              "      <td>0</td>\n",
              "      <td>0</td>\n",
              "      <td>0</td>\n",
              "      <td>0</td>\n",
              "      <td>1</td>\n",
              "    </tr>\n",
              "    <tr>\n",
              "      <th>27231</th>\n",
              "      <td>171181</td>\n",
              "      <td>0.734</td>\n",
              "      <td>0.20600</td>\n",
              "      <td>2020</td>\n",
              "      <td>['Ashnikko']</td>\n",
              "      <td>0.717</td>\n",
              "      <td>150654</td>\n",
              "      <td>0.753</td>\n",
              "      <td>0.000000</td>\n",
              "      <td>-6.020</td>\n",
              "      <td>7</td>\n",
              "      <td>0.1010</td>\n",
              "      <td>Halloweenie III: Seven Days</td>\n",
              "      <td>68</td>\n",
              "      <td>0.0605</td>\n",
              "      <td>137.936</td>\n",
              "      <td>0</td>\n",
              "      <td>0</td>\n",
              "      <td>0</td>\n",
              "      <td>0</td>\n",
              "      <td>0</td>\n",
              "      <td>0</td>\n",
              "      <td>0</td>\n",
              "      <td>0</td>\n",
              "      <td>0</td>\n",
              "      <td>0</td>\n",
              "      <td>0</td>\n",
              "      <td>0</td>\n",
              "      <td>0</td>\n",
              "      <td>0</td>\n",
              "      <td>0</td>\n",
              "      <td>0</td>\n",
              "      <td>0</td>\n",
              "      <td>0</td>\n",
              "      <td>0</td>\n",
              "      <td>0</td>\n",
              "      <td>0</td>\n",
              "      <td>1</td>\n",
              "      <td>0</td>\n",
              "      <td>0</td>\n",
              "      <td>0</td>\n",
              "      <td>0</td>\n",
              "      <td>0</td>\n",
              "      <td>0</td>\n",
              "      <td>0</td>\n",
              "      <td>0</td>\n",
              "      <td>0</td>\n",
              "      <td>0</td>\n",
              "      <td>1</td>\n",
              "    </tr>\n",
              "    <tr>\n",
              "      <th>27232</th>\n",
              "      <td>171182</td>\n",
              "      <td>0.637</td>\n",
              "      <td>0.10100</td>\n",
              "      <td>2020</td>\n",
              "      <td>['MAMAMOO']</td>\n",
              "      <td>0.634</td>\n",
              "      <td>211280</td>\n",
              "      <td>0.858</td>\n",
              "      <td>0.000009</td>\n",
              "      <td>-2.226</td>\n",
              "      <td>4</td>\n",
              "      <td>0.2580</td>\n",
              "      <td>AYA</td>\n",
              "      <td>76</td>\n",
              "      <td>0.0809</td>\n",
              "      <td>91.688</td>\n",
              "      <td>0</td>\n",
              "      <td>0</td>\n",
              "      <td>0</td>\n",
              "      <td>0</td>\n",
              "      <td>0</td>\n",
              "      <td>0</td>\n",
              "      <td>0</td>\n",
              "      <td>0</td>\n",
              "      <td>0</td>\n",
              "      <td>0</td>\n",
              "      <td>0</td>\n",
              "      <td>0</td>\n",
              "      <td>0</td>\n",
              "      <td>0</td>\n",
              "      <td>1</td>\n",
              "      <td>0</td>\n",
              "      <td>0</td>\n",
              "      <td>0</td>\n",
              "      <td>0</td>\n",
              "      <td>0</td>\n",
              "      <td>0</td>\n",
              "      <td>0</td>\n",
              "      <td>0</td>\n",
              "      <td>0</td>\n",
              "      <td>0</td>\n",
              "      <td>0</td>\n",
              "      <td>0</td>\n",
              "      <td>0</td>\n",
              "      <td>0</td>\n",
              "      <td>0</td>\n",
              "      <td>0</td>\n",
              "      <td>0</td>\n",
              "      <td>1</td>\n",
              "    </tr>\n",
              "    <tr>\n",
              "      <th>27233</th>\n",
              "      <td>171183</td>\n",
              "      <td>0.195</td>\n",
              "      <td>0.00998</td>\n",
              "      <td>2020</td>\n",
              "      <td>['Eminem']</td>\n",
              "      <td>0.671</td>\n",
              "      <td>337147</td>\n",
              "      <td>0.623</td>\n",
              "      <td>0.000008</td>\n",
              "      <td>-7.161</td>\n",
              "      <td>2</td>\n",
              "      <td>0.6430</td>\n",
              "      <td>Darkness</td>\n",
              "      <td>70</td>\n",
              "      <td>0.3080</td>\n",
              "      <td>75.055</td>\n",
              "      <td>0</td>\n",
              "      <td>0</td>\n",
              "      <td>0</td>\n",
              "      <td>0</td>\n",
              "      <td>0</td>\n",
              "      <td>0</td>\n",
              "      <td>0</td>\n",
              "      <td>0</td>\n",
              "      <td>0</td>\n",
              "      <td>1</td>\n",
              "      <td>0</td>\n",
              "      <td>0</td>\n",
              "      <td>0</td>\n",
              "      <td>0</td>\n",
              "      <td>0</td>\n",
              "      <td>0</td>\n",
              "      <td>0</td>\n",
              "      <td>0</td>\n",
              "      <td>0</td>\n",
              "      <td>0</td>\n",
              "      <td>0</td>\n",
              "      <td>0</td>\n",
              "      <td>0</td>\n",
              "      <td>0</td>\n",
              "      <td>0</td>\n",
              "      <td>0</td>\n",
              "      <td>0</td>\n",
              "      <td>0</td>\n",
              "      <td>0</td>\n",
              "      <td>0</td>\n",
              "      <td>0</td>\n",
              "      <td>0</td>\n",
              "      <td>1</td>\n",
              "    </tr>\n",
              "    <tr>\n",
              "      <th>27234</th>\n",
              "      <td>171184</td>\n",
              "      <td>0.642</td>\n",
              "      <td>0.13200</td>\n",
              "      <td>2020</td>\n",
              "      <td>['KEVVO', 'J Balvin']</td>\n",
              "      <td>0.856</td>\n",
              "      <td>189507</td>\n",
              "      <td>0.721</td>\n",
              "      <td>0.004710</td>\n",
              "      <td>-4.928</td>\n",
              "      <td>7</td>\n",
              "      <td>0.1820</td>\n",
              "      <td>Billetes Azules (with J Balvin)</td>\n",
              "      <td>74</td>\n",
              "      <td>0.1080</td>\n",
              "      <td>94.991</td>\n",
              "      <td>0</td>\n",
              "      <td>0</td>\n",
              "      <td>0</td>\n",
              "      <td>0</td>\n",
              "      <td>0</td>\n",
              "      <td>0</td>\n",
              "      <td>0</td>\n",
              "      <td>0</td>\n",
              "      <td>0</td>\n",
              "      <td>0</td>\n",
              "      <td>0</td>\n",
              "      <td>0</td>\n",
              "      <td>0</td>\n",
              "      <td>0</td>\n",
              "      <td>0</td>\n",
              "      <td>0</td>\n",
              "      <td>0</td>\n",
              "      <td>0</td>\n",
              "      <td>0</td>\n",
              "      <td>0</td>\n",
              "      <td>0</td>\n",
              "      <td>1</td>\n",
              "      <td>0</td>\n",
              "      <td>0</td>\n",
              "      <td>0</td>\n",
              "      <td>0</td>\n",
              "      <td>0</td>\n",
              "      <td>0</td>\n",
              "      <td>0</td>\n",
              "      <td>0</td>\n",
              "      <td>0</td>\n",
              "      <td>0</td>\n",
              "      <td>1</td>\n",
              "    </tr>\n",
              "  </tbody>\n",
              "</table>\n",
              "<p>27235 rows × 49 columns</p>\n",
              "</div>"
            ],
            "text/plain": [
              "        index  valence  acousticness  year  ... 1990s  2000s  2010s  2020s\n",
              "0           0    0.688       0.33500  2021  ...     0      0      0      1\n",
              "1           1    0.758       0.29700  2021  ...     0      0      0      1\n",
              "2           2    0.483       0.01370  2020  ...     0      0      0      1\n",
              "3           3    0.742       0.23500  2021  ...     0      0      0      1\n",
              "4           4    0.589       0.12700  2017  ...     0      0      1      0\n",
              "...       ...      ...           ...   ...  ...   ...    ...    ...    ...\n",
              "27230  171180    0.608       0.08460  2020  ...     0      0      0      1\n",
              "27231  171181    0.734       0.20600  2020  ...     0      0      0      1\n",
              "27232  171182    0.637       0.10100  2020  ...     0      0      0      1\n",
              "27233  171183    0.195       0.00998  2020  ...     0      0      0      1\n",
              "27234  171184    0.642       0.13200  2020  ...     0      0      0      1\n",
              "\n",
              "[27235 rows x 49 columns]"
            ]
          },
          "metadata": {
            "tags": []
          },
          "execution_count": 228
        }
      ]
    },
    {
      "cell_type": "code",
      "metadata": {
        "colab": {
          "base_uri": "https://localhost:8080/"
        },
        "id": "v6f35ty1Bjc-",
        "outputId": "a046c01c-ac07-4975-d967-61d72277ce69"
      },
      "source": [
        "song_df.isnull().sum()"
      ],
      "execution_count": null,
      "outputs": [
        {
          "output_type": "execute_result",
          "data": {
            "text/plain": [
              "index               0\n",
              "valence             0\n",
              "acousticness        0\n",
              "year                0\n",
              "artists             0\n",
              "danceability        0\n",
              "duration_ms         0\n",
              "energy              0\n",
              "instrumentalness    0\n",
              "loudness            0\n",
              "key                 0\n",
              "liveness            0\n",
              "name                0\n",
              "popularity          0\n",
              "speechiness         0\n",
              "tempo               0\n",
              "A Minor             0\n",
              "Ab Major            0\n",
              "Ab Minor            0\n",
              "B Major             0\n",
              "B Minor             0\n",
              "Bb Major            0\n",
              "Bb Minor            0\n",
              "C Major             0\n",
              "C Minor             0\n",
              "D Major             0\n",
              "D Minor             0\n",
              "Db Major            0\n",
              "Db Minor            0\n",
              "E Major             0\n",
              "E Minor             0\n",
              "Eb Major            0\n",
              "Eb Minor            0\n",
              "F Major             0\n",
              "F Minor             0\n",
              "F# Major            0\n",
              "F# Minor            0\n",
              "G Major             0\n",
              "G Minor             0\n",
              "1930s               0\n",
              "1940s               0\n",
              "1950s               0\n",
              "1960s               0\n",
              "1970s               0\n",
              "1980s               0\n",
              "1990s               0\n",
              "2000s               0\n",
              "2010s               0\n",
              "2020s               0\n",
              "dtype: int64"
            ]
          },
          "metadata": {
            "tags": []
          },
          "execution_count": 229
        }
      ]
    },
    {
      "cell_type": "markdown",
      "metadata": {
        "id": "REDO4TlwBjdC"
      },
      "source": [
        "## 1. Connecting To Spotify API"
      ]
    },
    {
      "cell_type": "code",
      "metadata": {
        "id": "N4sS1AIwBjdH"
      },
      "source": [
        "\n",
        "ids = []\n",
        "def getTrackIDs(playlist_id):\n",
        "    \n",
        "    try:\n",
        "        playlist = spotify.playlist(playlist_id)\n",
        "    \n",
        "        for item in playlist['tracks']['items']:\n",
        "            track = item['track']\n",
        "            if track is not None:\n",
        "                ids.append(track['id'])\n",
        "        return ids\n",
        "    except:\n",
        "        print(\"Entered a invalid a link\")\n",
        "        pass\n",
        "\n",
        "\n"
      ],
      "execution_count": null,
      "outputs": []
    },
    {
      "cell_type": "code",
      "metadata": {
        "id": "xIQxTFUqBjdO"
      },
      "source": [
        "\n",
        "def getTrackFeatures(id_s):\n",
        "    \n",
        "    \n",
        "   \n",
        "    \n",
        "    meta = spotify.track(id_s)\n",
        "        # meta\n",
        "    name = meta['name']\n",
        "\n",
        "    artists = meta['album']['artists'][0]['name']\n",
        "    release_date = meta['album']['release_date']\n",
        "    duration_ms = meta['duration_ms']\n",
        "    popularity = meta['popularity']\n",
        "    explicit=meta['explicit']\n",
        "    features = spotify.audio_features(tracks=id_s)\n",
        "    tempo=features[0]['tempo']\n",
        "    valence=features[0]['valence']\n",
        "    acousticness = features[0]['acousticness']\n",
        "    danceability = features[0]['danceability']\n",
        "    energy = features[0]['energy']\n",
        "    instrumentalness = features[0]['instrumentalness']\n",
        "    liveness = features[0]['liveness']\n",
        "    loudness = features[0]['loudness']\n",
        "    speechiness = features[0]['speechiness']\n",
        "    mode=features[0]['mode']\n",
        "    key=features[0]['key']\n",
        "    import datetime\n",
        "\n",
        "    track = [valence, acousticness,artists,danceability,duration_ms,energy,explicit,id_s,instrumentalness,loudness,key,liveness,mode,name,popularity,release_date,speechiness,tempo]\n",
        "    return track\n",
        "\n",
        "\n",
        "tracks=[]\n",
        "def get_playlist_df():\n",
        "\n",
        "    ids = getTrackIDs(input(\"Enter a link to your playlist \"))\n",
        "    for i in range(len(ids)):\n",
        "        time.sleep(.5)\n",
        "        track = getTrackFeatures(ids[i])\n",
        "        tracks.append(track)  \n",
        "        \n",
        "\n",
        "\n",
        "    playlist_df = pd.DataFrame(tracks, columns =  [\"valence\",\"acousticness\",\"artists\",\"danceability\",\"duration_ms\",\"energy\",\"explicit\",\"id\",\"instrumentalness\",\"loudness\",\"key\",\"liveness\",\"mode\",\"name\",\"popularity\",\"release_date\",\"speechiness\",\"tempo\"])\n",
        "    playlist_df['year'] = pd.DatetimeIndex(playlist_df['release_date']).year\n",
        "    year =playlist_df['year']\n",
        "    playlist_df.drop(labels=['year'], axis=1, inplace = True)\n",
        "    playlist_df.insert(2, 'year', year)    \n",
        "    return playlist_df\n",
        "\n"
      ],
      "execution_count": null,
      "outputs": []
    },
    {
      "cell_type": "code",
      "metadata": {
        "colab": {
          "base_uri": "https://localhost:8080/"
        },
        "id": "bIpDaVMGBjdX",
        "outputId": "826ab0e0-7c2d-4c8a-838b-43cb2cbbd3e1"
      },
      "source": [
        "playlist_df=get_playlist_df()"
      ],
      "execution_count": null,
      "outputs": [
        {
          "output_type": "stream",
          "text": [
            "Enter a link to your playlist 56z43YN8tkXkoJFW529z2M\n"
          ],
          "name": "stdout"
        }
      ]
    },
    {
      "cell_type": "code",
      "metadata": {
        "colab": {
          "base_uri": "https://localhost:8080/",
          "height": 232
        },
        "id": "PFt5h1WRZXbN",
        "outputId": "a8ea161c-1d6c-4d7a-aa54-7ee036d6e466"
      },
      "source": [
        "playlist_df[['name','artists','valence', 'acousticness', 'instrumentalness', 'energy']]"
      ],
      "execution_count": null,
      "outputs": [
        {
          "output_type": "execute_result",
          "data": {
            "text/html": [
              "<div>\n",
              "<style scoped>\n",
              "    .dataframe tbody tr th:only-of-type {\n",
              "        vertical-align: middle;\n",
              "    }\n",
              "\n",
              "    .dataframe tbody tr th {\n",
              "        vertical-align: top;\n",
              "    }\n",
              "\n",
              "    .dataframe thead th {\n",
              "        text-align: right;\n",
              "    }\n",
              "</style>\n",
              "<table border=\"1\" class=\"dataframe\">\n",
              "  <thead>\n",
              "    <tr style=\"text-align: right;\">\n",
              "      <th></th>\n",
              "      <th>name</th>\n",
              "      <th>artists</th>\n",
              "      <th>valence</th>\n",
              "      <th>acousticness</th>\n",
              "      <th>instrumentalness</th>\n",
              "      <th>energy</th>\n",
              "    </tr>\n",
              "  </thead>\n",
              "  <tbody>\n",
              "    <tr>\n",
              "      <th>0</th>\n",
              "      <td>Thunder</td>\n",
              "      <td>Imagine Dragons</td>\n",
              "      <td>0.288</td>\n",
              "      <td>0.00671</td>\n",
              "      <td>0.134000</td>\n",
              "      <td>0.822</td>\n",
              "    </tr>\n",
              "    <tr>\n",
              "      <th>1</th>\n",
              "      <td>More Than You Know</td>\n",
              "      <td>Axwell /\\ Ingrosso</td>\n",
              "      <td>0.571</td>\n",
              "      <td>0.02750</td>\n",
              "      <td>0.000000</td>\n",
              "      <td>0.741</td>\n",
              "    </tr>\n",
              "    <tr>\n",
              "      <th>2</th>\n",
              "      <td>Whatever It Takes</td>\n",
              "      <td>Imagine Dragons</td>\n",
              "      <td>0.556</td>\n",
              "      <td>0.03620</td>\n",
              "      <td>0.000000</td>\n",
              "      <td>0.655</td>\n",
              "    </tr>\n",
              "    <tr>\n",
              "      <th>3</th>\n",
              "      <td>Natural</td>\n",
              "      <td>Imagine Dragons</td>\n",
              "      <td>0.220</td>\n",
              "      <td>0.21700</td>\n",
              "      <td>0.000000</td>\n",
              "      <td>0.611</td>\n",
              "    </tr>\n",
              "    <tr>\n",
              "      <th>4</th>\n",
              "      <td>Save Your Tears (with Ariana Grande) (Remix)</td>\n",
              "      <td>The Weeknd</td>\n",
              "      <td>0.593</td>\n",
              "      <td>0.02150</td>\n",
              "      <td>0.000024</td>\n",
              "      <td>0.825</td>\n",
              "    </tr>\n",
              "    <tr>\n",
              "      <th>5</th>\n",
              "      <td>Beggin'</td>\n",
              "      <td>Måneskin</td>\n",
              "      <td>0.589</td>\n",
              "      <td>0.12700</td>\n",
              "      <td>0.000000</td>\n",
              "      <td>0.800</td>\n",
              "    </tr>\n",
              "  </tbody>\n",
              "</table>\n",
              "</div>"
            ],
            "text/plain": [
              "                                           name  ... energy\n",
              "0                                       Thunder  ...  0.822\n",
              "1                            More Than You Know  ...  0.741\n",
              "2                             Whatever It Takes  ...  0.655\n",
              "3                                       Natural  ...  0.611\n",
              "4  Save Your Tears (with Ariana Grande) (Remix)  ...  0.825\n",
              "5                                       Beggin'  ...  0.800\n",
              "\n",
              "[6 rows x 6 columns]"
            ]
          },
          "metadata": {
            "tags": []
          },
          "execution_count": 21
        }
      ]
    },
    {
      "cell_type": "code",
      "metadata": {
        "id": "mF4MHjVa8OVF"
      },
      "source": [
        "playlist_df.to_csv(\"playlist.csv\")"
      ],
      "execution_count": null,
      "outputs": []
    },
    {
      "cell_type": "markdown",
      "metadata": {
        "id": "orDAK4UoV1oU"
      },
      "source": [
        "### Deciding upon columns to include\n",
        "<pre>valence: defines the mood of a song (e.g. happy, cheerful, euphoric, sad, depressed, angry).\n",
        "danceability:How suitable is the track for dancing track is for dancing based on a combination of musical elements including tempo, rhythm stability, beat strength, and overall regularity.\n",
        "instrumentalness:This value represents the amount of vocals in the song. The closer it is to 1.0, the more instrumental the song is.\n",
        "and energy: measure from 0.0 to 1.0 and represents a perceptual measure of intensity and activity. Typically, energetic tracks feel fast, loud, and noisy. For example, death metal has high energy, while a Bach prelude scores low on the scale. Perceptual features contributing to this attribute include dynamic range, perceived loudness, timbre, onset rate, and general entropy.\n",
        "</pre>\n",
        "\n",
        "these features seem to differentiate each song from the other so we consider these features for clustering our model"
      ]
    },
    {
      "cell_type": "code",
      "metadata": {
        "id": "AgOSI2o7Bjde"
      },
      "source": [
        "\n",
        "columns_cluster = ['valence', 'acousticness','instrumentalness','energy']"
      ],
      "execution_count": null,
      "outputs": []
    },
    {
      "cell_type": "markdown",
      "metadata": {
        "id": "ZonoeI4oZHSN"
      },
      "source": [
        "### Standardizing the dataset\n",
        "standardization is done using minmax method"
      ]
    },
    {
      "cell_type": "code",
      "metadata": {
        "id": "DlgXNCpxBjdg"
      },
      "source": [
        "from sklearn.preprocessing import StandardScaler, MinMaxScaler\n",
        "ss = StandardScaler()\n",
        "\n",
        "songs_scaled = ss.fit_transform(song_df[columns_cluster])\n",
        "\n",
        "\n",
        "playlist_scaled = ss.fit_transform(playlist_df[columns_cluster])\n"
      ],
      "execution_count": null,
      "outputs": []
    },
    {
      "cell_type": "code",
      "metadata": {
        "id": "AUUjQvidBjdm"
      },
      "source": [
        "columns_to_cluster_scaled = [ 'valence_scaled','acousticness_scaled',\"instrunentalness_scaled\",'energy_scaled']\n",
        "\n",
        "df_songs_scaled = pd.DataFrame(songs_scaled, columns=columns_to_cluster_scaled)\n",
        "df_playlist_scaled = pd.DataFrame(playlist_scaled, columns=columns_to_cluster_scaled)\n",
        "df_song_scaled_f=pd.concat([df_songs_scaled,song_df[['name','artists']]],axis=1)\n",
        "df_playlist_scaled_f=pd.concat([df_playlist_scaled,playlist_df[['name','artists']]],axis=1)"
      ],
      "execution_count": null,
      "outputs": []
    },
    {
      "cell_type": "code",
      "metadata": {
        "colab": {
          "base_uri": "https://localhost:8080/"
        },
        "id": "egD7bxhuBjdp",
        "outputId": "21a3d716-f02f-4667-9e87-fff934822757"
      },
      "source": [
        "df_songs_scaled.isnull().sum()"
      ],
      "execution_count": null,
      "outputs": [
        {
          "output_type": "execute_result",
          "data": {
            "text/plain": [
              "valence_scaled             0\n",
              "acousticness_scaled        0\n",
              "instrunentalness_scaled    0\n",
              "energy_scaled              0\n",
              "dtype: int64"
            ]
          },
          "metadata": {
            "tags": []
          },
          "execution_count": 238
        }
      ]
    },
    {
      "cell_type": "markdown",
      "metadata": {
        "id": "kdWJ-WjmZb5d"
      },
      "source": [
        "## Clustering the dataset"
      ]
    },
    {
      "cell_type": "markdown",
      "metadata": {
        "id": "CRHx8o13ZqX1"
      },
      "source": [
        "### Checking the which cluster value to choose"
      ]
    },
    {
      "cell_type": "code",
      "metadata": {
        "colab": {
          "base_uri": "https://localhost:8080/"
        },
        "id": "cyhV5pg_Bjdr",
        "outputId": "e994b5d6-929a-4d0e-f75e-e050ac660be9"
      },
      "source": [
        "from sklearn.cluster import KMeans\n",
        "from sklearn.preprocessing import StandardScaler, MinMaxScaler\n",
        "from sklearn.manifold import TSNE\n",
        "from sklearn.decomposition import PCA\n",
        "from sklearn.metrics import silhouette_score\n",
        "n_clusters = range(2,12)\n",
        "ssd = []\n",
        "sc = []\n",
        "\n",
        "\n",
        "for n in n_clusters:\n",
        "    km = KMeans(n_clusters=n, max_iter=500, n_init=10, init='k-means++', random_state=42)\n",
        "    km.fit(songs_scaled)\n",
        "    preds = km.predict(songs_scaled) \n",
        "    centers = km.cluster_centers_ \n",
        "    ssd.append(km.inertia_) \n",
        "    score = silhouette_score(songs_scaled, preds, metric='euclidean')\n",
        "    sc.append(score)\n",
        "    print(\"Number of Clusters = {}, Silhouette Score = {}\".format(n, score))"
      ],
      "execution_count": null,
      "outputs": [
        {
          "output_type": "stream",
          "text": [
            "Number of Clusters = 2, Silhouette Score = 0.40426554624212196\n",
            "Number of Clusters = 3, Silhouette Score = 0.3815194994099475\n",
            "Number of Clusters = 4, Silhouette Score = 0.32687363057813085\n",
            "Number of Clusters = 5, Silhouette Score = 0.3106841694395596\n",
            "Number of Clusters = 6, Silhouette Score = 0.32048496548673916\n",
            "Number of Clusters = 7, Silhouette Score = 0.30343903635425257\n",
            "Number of Clusters = 8, Silhouette Score = 0.2939430975381679\n",
            "Number of Clusters = 9, Silhouette Score = 0.2855306283770438\n",
            "Number of Clusters = 10, Silhouette Score = 0.28702275344055334\n",
            "Number of Clusters = 11, Silhouette Score = 0.2711916072755785\n"
          ],
          "name": "stdout"
        }
      ]
    },
    {
      "cell_type": "code",
      "metadata": {
        "colab": {
          "base_uri": "https://localhost:8080/",
          "height": 295
        },
        "id": "KgTPAyrrBjdu",
        "outputId": "2bbe6da1-18fc-47bc-d878-4d41d0e6b2fb"
      },
      "source": [
        "plt.plot(n_clusters, sc, marker='.', markersize=12, color='red')\n",
        "plt.xlabel('Number of clusters')\n",
        "plt.ylabel('Silhouette score')\n",
        "plt.title('Silhouette score behavior over the number of clusters')\n",
        "plt.show()\n",
        "\n"
      ],
      "execution_count": null,
      "outputs": [
        {
          "output_type": "display_data",
          "data": {
            "image/png": "[encoded data removed]",
            "text/plain": [
              "<Figure size 432x288 with 1 Axes>"
            ]
          },
          "metadata": {
            "tags": []
          }
        }
      ]
    },
    {
      "cell_type": "code",
      "metadata": {
        "colab": {
          "base_uri": "https://localhost:8080/"
        },
        "id": "1SWYmFjxToCB",
        "outputId": "4c23e754-e27f-4950-f7b4-fcf0493ff50a"
      },
      "source": [
        "for n, s in zip(n_clusters, ssd):\n",
        "    print('Number of Clusters = {}, Sum of Squared Distances = {}'.format(n, s))"
      ],
      "execution_count": null,
      "outputs": [
        {
          "output_type": "stream",
          "text": [
            "Number of Clusters = 2, Sum of Squared Distances = 72205.88764168439\n",
            "Number of Clusters = 3, Sum of Squared Distances = 52325.36672503219\n",
            "Number of Clusters = 4, Sum of Squared Distances = 39745.3474303937\n",
            "Number of Clusters = 5, Sum of Squared Distances = 34559.66489452051\n",
            "Number of Clusters = 6, Sum of Squared Distances = 29582.771971854112\n",
            "Number of Clusters = 7, Sum of Squared Distances = 25618.87499568195\n",
            "Number of Clusters = 8, Sum of Squared Distances = 23441.133045769187\n",
            "Number of Clusters = 9, Sum of Squared Distances = 21730.98133633188\n",
            "Number of Clusters = 10, Sum of Squared Distances = 20389.386092536966\n",
            "Number of Clusters = 11, Sum of Squared Distances = 19186.65430772707\n"
          ],
          "name": "stdout"
        }
      ]
    },
    {
      "cell_type": "code",
      "metadata": {
        "colab": {
          "base_uri": "https://localhost:8080/",
          "height": 295
        },
        "id": "z9Gc2Dn6T3j-",
        "outputId": "9bb5463e-8358-4536-f256-ab2ddb2a4212"
      },
      "source": [
        "plt.plot(n_clusters, ssd, marker='.', markersize=12)\n",
        "plt.xlabel('Number of clusters')\n",
        "plt.ylabel('Sum of squared distances')\n",
        "plt.title('Elbow method for optimal K')\n",
        "plt.show()\n"
      ],
      "execution_count": null,
      "outputs": [
        {
          "output_type": "display_data",
          "data": {
            "image/png": "[encoded data removed]",
            "text/plain": [
              "<Figure size 432x288 with 1 Axes>"
            ]
          },
          "metadata": {
            "tags": []
          }
        }
      ]
    },
    {
      "cell_type": "code",
      "metadata": {
        "colab": {
          "base_uri": "https://localhost:8080/"
        },
        "id": "Uige5YIrUSbn",
        "outputId": "af6f73e8-e138-437d-e7c4-186b4dcc2379"
      },
      "source": [
        "k=6\n",
        "\n",
        "model = KMeans(n_clusters=k, random_state=42).fit(songs_scaled)\n",
        "pred = model.predict(songs_scaled)\n",
        "print('10 first clusters: ', model.labels_[:10])"
      ],
      "execution_count": null,
      "outputs": [
        {
          "output_type": "stream",
          "text": [
            "10 first clusters:  [3 3 4 1 1 1 4 3 1 1]\n"
          ],
          "name": "stdout"
        }
      ]
    },
    {
      "cell_type": "code",
      "metadata": {
        "id": "yCMA-ntgUt1U"
      },
      "source": [
        "model_playlist=KMeans(n_clusters=k, random_state=42).fit(playlist_scaled)\n",
        "pred_playlist = model.predict(playlist_scaled)\n"
      ],
      "execution_count": null,
      "outputs": []
    },
    {
      "cell_type": "code",
      "metadata": {
        "id": "eShbfgbB_LSy"
      },
      "source": [
        "\n"
      ],
      "execution_count": null,
      "outputs": []
    },
    {
      "cell_type": "markdown",
      "metadata": {
        "id": "wYi2_y4FUxy5"
      },
      "source": [
        "no of songs per cluster"
      ]
    },
    {
      "cell_type": "code",
      "metadata": {
        "colab": {
          "base_uri": "https://localhost:8080/",
          "height": 292
        },
        "id": "hnTzruzbUnWh",
        "outputId": "2ad9c373-30b8-45e3-af33-37c5acf100a9"
      },
      "source": [
        "df_songs_scaled['cluster'] = model.labels_\n",
        "\n",
        "df_songs_scaled['cluster'].value_counts().plot(kind='bar')\n",
        "plt.xlabel('Cluster')\n",
        "plt.ylabel('Amount of songs')\n",
        "plt.title('Amount of songs per cluster')\n",
        "plt.show()"
      ],
      "execution_count": null,
      "outputs": [
        {
          "output_type": "display_data",
          "data": {
            "image/png": "[encoded data removed]",
            "text/plain": [
              "<Figure size 432x288 with 1 Axes>"
            ]
          },
          "metadata": {
            "tags": []
          }
        }
      ]
    },
    {
      "cell_type": "code",
      "metadata": {
        "colab": {
          "base_uri": "https://localhost:8080/",
          "height": 408
        },
        "id": "7gVxoR0LrZC0",
        "outputId": "03cbc1e7-f29a-488a-a3a9-14b89169291c"
      },
      "source": [
        "c0 = df_songs_scaled[df_songs_scaled['cluster']==0]\n",
        "c1 = df_songs_scaled[df_songs_scaled['cluster']==1]\n",
        "c2 = df_songs_scaled[df_songs_scaled['cluster']==2]\n",
        "c3 = df_songs_scaled[df_songs_scaled['cluster']==3]\n",
        "c4 = df_songs_scaled[df_songs_scaled['cluster']==4]\n",
        "c5 = df_songs_scaled[df_songs_scaled['cluster']==5]\n",
        "c0"
      ],
      "execution_count": null,
      "outputs": [
        {
          "output_type": "execute_result",
          "data": {
            "text/html": [
              "<div>\n",
              "<style scoped>\n",
              "    .dataframe tbody tr th:only-of-type {\n",
              "        vertical-align: middle;\n",
              "    }\n",
              "\n",
              "    .dataframe tbody tr th {\n",
              "        vertical-align: top;\n",
              "    }\n",
              "\n",
              "    .dataframe thead th {\n",
              "        text-align: right;\n",
              "    }\n",
              "</style>\n",
              "<table border=\"1\" class=\"dataframe\">\n",
              "  <thead>\n",
              "    <tr style=\"text-align: right;\">\n",
              "      <th></th>\n",
              "      <th>valence_scaled</th>\n",
              "      <th>acousticness_scaled</th>\n",
              "      <th>instrunentalness_scaled</th>\n",
              "      <th>energy_scaled</th>\n",
              "      <th>cluster</th>\n",
              "    </tr>\n",
              "  </thead>\n",
              "  <tbody>\n",
              "    <tr>\n",
              "      <th>26</th>\n",
              "      <td>-1.224515</td>\n",
              "      <td>2.285812</td>\n",
              "      <td>-0.300605</td>\n",
              "      <td>-1.524465</td>\n",
              "      <td>0</td>\n",
              "    </tr>\n",
              "    <tr>\n",
              "      <th>28</th>\n",
              "      <td>-0.919190</td>\n",
              "      <td>1.907231</td>\n",
              "      <td>-0.296257</td>\n",
              "      <td>-1.230245</td>\n",
              "      <td>0</td>\n",
              "    </tr>\n",
              "    <tr>\n",
              "      <th>44</th>\n",
              "      <td>-1.071852</td>\n",
              "      <td>2.378736</td>\n",
              "      <td>-0.272628</td>\n",
              "      <td>-1.180454</td>\n",
              "      <td>0</td>\n",
              "    </tr>\n",
              "    <tr>\n",
              "      <th>51</th>\n",
              "      <td>-1.087922</td>\n",
              "      <td>0.771488</td>\n",
              "      <td>-0.302407</td>\n",
              "      <td>-0.410957</td>\n",
              "      <td>0</td>\n",
              "    </tr>\n",
              "    <tr>\n",
              "      <th>54</th>\n",
              "      <td>-1.744370</td>\n",
              "      <td>1.304943</td>\n",
              "      <td>0.480170</td>\n",
              "      <td>-1.624047</td>\n",
              "      <td>0</td>\n",
              "    </tr>\n",
              "    <tr>\n",
              "      <th>...</th>\n",
              "      <td>...</td>\n",
              "      <td>...</td>\n",
              "      <td>...</td>\n",
              "      <td>...</td>\n",
              "      <td>...</td>\n",
              "    </tr>\n",
              "    <tr>\n",
              "      <th>27215</th>\n",
              "      <td>-0.625918</td>\n",
              "      <td>2.110288</td>\n",
              "      <td>-0.302417</td>\n",
              "      <td>-1.587835</td>\n",
              "      <td>0</td>\n",
              "    </tr>\n",
              "    <tr>\n",
              "      <th>27217</th>\n",
              "      <td>-1.405299</td>\n",
              "      <td>0.922920</td>\n",
              "      <td>-0.302417</td>\n",
              "      <td>-1.207613</td>\n",
              "      <td>0</td>\n",
              "    </tr>\n",
              "    <tr>\n",
              "      <th>27220</th>\n",
              "      <td>-1.196393</td>\n",
              "      <td>2.392503</td>\n",
              "      <td>-0.282676</td>\n",
              "      <td>-2.298489</td>\n",
              "      <td>0</td>\n",
              "    </tr>\n",
              "    <tr>\n",
              "      <th>27223</th>\n",
              "      <td>-1.288793</td>\n",
              "      <td>1.036495</td>\n",
              "      <td>-0.302417</td>\n",
              "      <td>-1.320774</td>\n",
              "      <td>0</td>\n",
              "    </tr>\n",
              "    <tr>\n",
              "      <th>27224</th>\n",
              "      <td>-1.075870</td>\n",
              "      <td>1.865931</td>\n",
              "      <td>-0.302154</td>\n",
              "      <td>-0.872655</td>\n",
              "      <td>0</td>\n",
              "    </tr>\n",
              "  </tbody>\n",
              "</table>\n",
              "<p>4233 rows × 5 columns</p>\n",
              "</div>"
            ],
            "text/plain": [
              "       valence_scaled  acousticness_scaled  ...  energy_scaled  cluster\n",
              "26          -1.224515             2.285812  ...      -1.524465        0\n",
              "28          -0.919190             1.907231  ...      -1.230245        0\n",
              "44          -1.071852             2.378736  ...      -1.180454        0\n",
              "51          -1.087922             0.771488  ...      -0.410957        0\n",
              "54          -1.744370             1.304943  ...      -1.624047        0\n",
              "...               ...                  ...  ...            ...      ...\n",
              "27215       -0.625918             2.110288  ...      -1.587835        0\n",
              "27217       -1.405299             0.922920  ...      -1.207613        0\n",
              "27220       -1.196393             2.392503  ...      -2.298489        0\n",
              "27223       -1.288793             1.036495  ...      -1.320774        0\n",
              "27224       -1.075870             1.865931  ...      -0.872655        0\n",
              "\n",
              "[4233 rows x 5 columns]"
            ]
          },
          "metadata": {
            "tags": []
          },
          "execution_count": 246
        }
      ]
    },
    {
      "cell_type": "code",
      "metadata": {
        "colab": {
          "base_uri": "https://localhost:8080/",
          "height": 408
        },
        "id": "qRAnGgYbwB3N",
        "outputId": "41f4e14c-5dc0-4921-8cb0-b00ac74379d2"
      },
      "source": [
        "c0"
      ],
      "execution_count": null,
      "outputs": [
        {
          "output_type": "execute_result",
          "data": {
            "text/html": [
              "<div>\n",
              "<style scoped>\n",
              "    .dataframe tbody tr th:only-of-type {\n",
              "        vertical-align: middle;\n",
              "    }\n",
              "\n",
              "    .dataframe tbody tr th {\n",
              "        vertical-align: top;\n",
              "    }\n",
              "\n",
              "    .dataframe thead th {\n",
              "        text-align: right;\n",
              "    }\n",
              "</style>\n",
              "<table border=\"1\" class=\"dataframe\">\n",
              "  <thead>\n",
              "    <tr style=\"text-align: right;\">\n",
              "      <th></th>\n",
              "      <th>valence_scaled</th>\n",
              "      <th>acousticness_scaled</th>\n",
              "      <th>instrunentalness_scaled</th>\n",
              "      <th>energy_scaled</th>\n",
              "      <th>cluster</th>\n",
              "    </tr>\n",
              "  </thead>\n",
              "  <tbody>\n",
              "    <tr>\n",
              "      <th>26</th>\n",
              "      <td>-1.224515</td>\n",
              "      <td>2.285812</td>\n",
              "      <td>-0.300605</td>\n",
              "      <td>-1.524465</td>\n",
              "      <td>0</td>\n",
              "    </tr>\n",
              "    <tr>\n",
              "      <th>28</th>\n",
              "      <td>-0.919190</td>\n",
              "      <td>1.907231</td>\n",
              "      <td>-0.296257</td>\n",
              "      <td>-1.230245</td>\n",
              "      <td>0</td>\n",
              "    </tr>\n",
              "    <tr>\n",
              "      <th>44</th>\n",
              "      <td>-1.071852</td>\n",
              "      <td>2.378736</td>\n",
              "      <td>-0.272628</td>\n",
              "      <td>-1.180454</td>\n",
              "      <td>0</td>\n",
              "    </tr>\n",
              "    <tr>\n",
              "      <th>51</th>\n",
              "      <td>-1.087922</td>\n",
              "      <td>0.771488</td>\n",
              "      <td>-0.302407</td>\n",
              "      <td>-0.410957</td>\n",
              "      <td>0</td>\n",
              "    </tr>\n",
              "    <tr>\n",
              "      <th>54</th>\n",
              "      <td>-1.744370</td>\n",
              "      <td>1.304943</td>\n",
              "      <td>0.480170</td>\n",
              "      <td>-1.624047</td>\n",
              "      <td>0</td>\n",
              "    </tr>\n",
              "    <tr>\n",
              "      <th>...</th>\n",
              "      <td>...</td>\n",
              "      <td>...</td>\n",
              "      <td>...</td>\n",
              "      <td>...</td>\n",
              "      <td>...</td>\n",
              "    </tr>\n",
              "    <tr>\n",
              "      <th>27215</th>\n",
              "      <td>-0.625918</td>\n",
              "      <td>2.110288</td>\n",
              "      <td>-0.302417</td>\n",
              "      <td>-1.587835</td>\n",
              "      <td>0</td>\n",
              "    </tr>\n",
              "    <tr>\n",
              "      <th>27217</th>\n",
              "      <td>-1.405299</td>\n",
              "      <td>0.922920</td>\n",
              "      <td>-0.302417</td>\n",
              "      <td>-1.207613</td>\n",
              "      <td>0</td>\n",
              "    </tr>\n",
              "    <tr>\n",
              "      <th>27220</th>\n",
              "      <td>-1.196393</td>\n",
              "      <td>2.392503</td>\n",
              "      <td>-0.282676</td>\n",
              "      <td>-2.298489</td>\n",
              "      <td>0</td>\n",
              "    </tr>\n",
              "    <tr>\n",
              "      <th>27223</th>\n",
              "      <td>-1.288793</td>\n",
              "      <td>1.036495</td>\n",
              "      <td>-0.302417</td>\n",
              "      <td>-1.320774</td>\n",
              "      <td>0</td>\n",
              "    </tr>\n",
              "    <tr>\n",
              "      <th>27224</th>\n",
              "      <td>-1.075870</td>\n",
              "      <td>1.865931</td>\n",
              "      <td>-0.302154</td>\n",
              "      <td>-0.872655</td>\n",
              "      <td>0</td>\n",
              "    </tr>\n",
              "  </tbody>\n",
              "</table>\n",
              "<p>4233 rows × 5 columns</p>\n",
              "</div>"
            ],
            "text/plain": [
              "       valence_scaled  acousticness_scaled  ...  energy_scaled  cluster\n",
              "26          -1.224515             2.285812  ...      -1.524465        0\n",
              "28          -0.919190             1.907231  ...      -1.230245        0\n",
              "44          -1.071852             2.378736  ...      -1.180454        0\n",
              "51          -1.087922             0.771488  ...      -0.410957        0\n",
              "54          -1.744370             1.304943  ...      -1.624047        0\n",
              "...               ...                  ...  ...            ...      ...\n",
              "27215       -0.625918             2.110288  ...      -1.587835        0\n",
              "27217       -1.405299             0.922920  ...      -1.207613        0\n",
              "27220       -1.196393             2.392503  ...      -2.298489        0\n",
              "27223       -1.288793             1.036495  ...      -1.320774        0\n",
              "27224       -1.075870             1.865931  ...      -0.872655        0\n",
              "\n",
              "[4233 rows x 5 columns]"
            ]
          },
          "metadata": {
            "tags": []
          },
          "execution_count": 247
        }
      ]
    },
    {
      "cell_type": "code",
      "metadata": {
        "colab": {
          "base_uri": "https://localhost:8080/"
        },
        "id": "Sdx6yrAdsY_N",
        "outputId": "b195dd66-35fc-4764-b4f3-16f7247f4c0d"
      },
      "source": [
        "c0.drop(['cluster'] ,axis=1,inplace=True)\n",
        "c0=c0.melt(var_name='groups', value_name='vals')\n",
        "c1.drop(['cluster'] ,axis=1,inplace=True)\n",
        "c1=c1.melt(var_name='groups', value_name='vals')\n",
        "c2.drop('cluster' ,axis=1,inplace=True)\n",
        "c2=c2.melt(var_name='groups', value_name='vals')\n",
        "c3.drop('cluster' ,axis=1,inplace=True)\n",
        "c3=c3.melt(var_name='groups', value_name='vals')\n",
        "c4.drop('cluster' ,axis=1,inplace=True)\n",
        "c4=c4.melt(var_name='groups', value_name='vals')\n",
        "c5.drop('cluster' ,axis=1,inplace=True)\n",
        "c5=c5.melt(var_name='groups', value_name='vals')"
      ],
      "execution_count": null,
      "outputs": [
        {
          "output_type": "stream",
          "text": [
            "/usr/local/lib/python3.7/dist-packages/pandas/core/frame.py:4174: SettingWithCopyWarning: \n",
            "A value is trying to be set on a copy of a slice from a DataFrame\n",
            "\n",
            "See the caveats in the documentation: https://pandas.pydata.org/pandas-docs/stable/user_guide/indexing.html#returning-a-view-versus-a-copy\n",
            "  errors=errors,\n"
          ],
          "name": "stderr"
        }
      ]
    },
    {
      "cell_type": "code",
      "metadata": {
        "colab": {
          "base_uri": "https://localhost:8080/",
          "height": 1000
        },
        "id": "NuBs-M_7rlp_",
        "outputId": "dce328b8-5394-489d-8f0a-24472185eaff"
      },
      "source": [
        "\n",
        "f, axes = plt.subplots(6, 1,figsize=(15,25))\n",
        "\n",
        "ax= sns.violinplot( data=c0 ,x=\"groups\", y=\"vals\", linewidth = 0.6, inner = 'point', scale= 'width', ax=axes[0])\n",
        "ax = sns.violinplot( data=c1 ,x=\"groups\", y=\"vals\", linewidth = 0.6, inner = 'point', scale= 'width', ax=axes[1])\n",
        "ax = sns.violinplot( data=c2 ,x=\"groups\", y=\"vals\", linewidth = 0.6, inner = 'point', scale= 'width', ax=axes[2])\n",
        "ax = sns.violinplot( data=c3 ,x=\"groups\", y=\"vals\", linewidth = 0.6, inner = 'point', scale= 'width', ax=axes[3])\n",
        "ax = sns.violinplot( data=c4 ,x=\"groups\", y=\"vals\", linewidth = 0.6, inner = 'point', scale= 'width', ax=axes[4])\n",
        "ax = sns.violinplot( data=c5 ,x=\"groups\", y=\"vals\", linewidth = 0.6, inner = 'point', scale= 'width', ax=axes[5])\n",
        "\n",
        "plt.show()"
      ],
      "execution_count": null,
      "outputs": [
        {
          "output_type": "display_data",
          "data": {
            "image/png": "[encoded data removed]",
            "text/plain": [
              "<Figure size 1080x1800 with 6 Axes>"
            ]
          },
          "metadata": {
            "tags": []
          }
        }
      ]
    },
    {
      "cell_type": "code",
      "metadata": {
        "id": "B1Nt0nJgsXOO"
      },
      "source": [
        ""
      ],
      "execution_count": null,
      "outputs": []
    },
    {
      "cell_type": "code",
      "metadata": {
        "colab": {
          "base_uri": "https://localhost:8080/",
          "height": 147
        },
        "id": "D1-aOmSHVEus",
        "outputId": "188a2440-ce1a-4a68-ba14-7600076dc67a"
      },
      "source": [
        "display(df_songs_scaled['cluster'].value_counts())\n",
        "minor_cluster = df_songs_scaled['cluster'].value_counts().tail(1)\n",
        "print(\"Amount of songs in the smallest cluster: \", int(minor_cluster.values))\n"
      ],
      "execution_count": null,
      "outputs": [
        {
          "output_type": "display_data",
          "data": {
            "text/plain": [
              "4    8393\n",
              "1    8271\n",
              "3    4621\n",
              "0    4233\n",
              "5     871\n",
              "2     846\n",
              "Name: cluster, dtype: int64"
            ]
          },
          "metadata": {
            "tags": []
          }
        },
        {
          "output_type": "stream",
          "text": [
            "Amount of songs in the smallest cluster:  846\n"
          ],
          "name": "stdout"
        }
      ]
    },
    {
      "cell_type": "code",
      "metadata": {
        "colab": {
          "base_uri": "https://localhost:8080/",
          "height": 1000
        },
        "id": "CaOFVsdcVUE8",
        "outputId": "3902b6f1-82d5-4b34-837f-99d3460513f2"
      },
      "source": [
        "df_songs_joined = pd.concat([song_df,df_songs_scaled], axis=1).set_index('cluster')\n",
        "\n",
        "for cluster in range(k):\n",
        "    display(df_songs_joined.loc[cluster, ['artists','name']].sample(frac=1).head(10))"
      ],
      "execution_count": null,
      "outputs": [
        {
          "output_type": "display_data",
          "data": {
            "text/html": [
              "<div>\n",
              "<style scoped>\n",
              "    .dataframe tbody tr th:only-of-type {\n",
              "        vertical-align: middle;\n",
              "    }\n",
              "\n",
              "    .dataframe tbody tr th {\n",
              "        vertical-align: top;\n",
              "    }\n",
              "\n",
              "    .dataframe thead th {\n",
              "        text-align: right;\n",
              "    }\n",
              "</style>\n",
              "<table border=\"1\" class=\"dataframe\">\n",
              "  <thead>\n",
              "    <tr style=\"text-align: right;\">\n",
              "      <th></th>\n",
              "      <th>artists</th>\n",
              "      <th>name</th>\n",
              "    </tr>\n",
              "    <tr>\n",
              "      <th>cluster</th>\n",
              "      <th></th>\n",
              "      <th></th>\n",
              "    </tr>\n",
              "  </thead>\n",
              "  <tbody>\n",
              "    <tr>\n",
              "      <th>0</th>\n",
              "      <td>['Jackson Browne']</td>\n",
              "      <td>Late for the Sky</td>\n",
              "    </tr>\n",
              "    <tr>\n",
              "      <th>0</th>\n",
              "      <td>['Amy Liz']</td>\n",
              "      <td>Slippery Fish</td>\n",
              "    </tr>\n",
              "    <tr>\n",
              "      <th>0</th>\n",
              "      <td>['Summer Salt']</td>\n",
              "      <td>Sweet to Me</td>\n",
              "    </tr>\n",
              "    <tr>\n",
              "      <th>0</th>\n",
              "      <td>['Trippie Redd']</td>\n",
              "      <td>Together</td>\n",
              "    </tr>\n",
              "    <tr>\n",
              "      <th>0</th>\n",
              "      <td>['Zach Bryan']</td>\n",
              "      <td>Letting Someone Go</td>\n",
              "    </tr>\n",
              "    <tr>\n",
              "      <th>0</th>\n",
              "      <td>['Steven Universe', 'Deedee Magno Hall', 'Este...</td>\n",
              "      <td>Peace and Love on the Planet Earth (feat. Zach...</td>\n",
              "    </tr>\n",
              "    <tr>\n",
              "      <th>0</th>\n",
              "      <td>['Adventure Time', 'Olivia Olson']</td>\n",
              "      <td>Everything Stays (feat. Olivia Olson)</td>\n",
              "    </tr>\n",
              "    <tr>\n",
              "      <th>0</th>\n",
              "      <td>['Gregory Alan Isakov']</td>\n",
              "      <td>Amsterdam</td>\n",
              "    </tr>\n",
              "    <tr>\n",
              "      <th>0</th>\n",
              "      <td>['Charlie Rich']</td>\n",
              "      <td>Behind Closed Doors</td>\n",
              "    </tr>\n",
              "    <tr>\n",
              "      <th>0</th>\n",
              "      <td>['Norah Jones']</td>\n",
              "      <td>Don't Know Why</td>\n",
              "    </tr>\n",
              "  </tbody>\n",
              "</table>\n",
              "</div>"
            ],
            "text/plain": [
              "                                                   artists                                               name\n",
              "cluster                                                                                                      \n",
              "0                                       ['Jackson Browne']                                   Late for the Sky\n",
              "0                                              ['Amy Liz']                                      Slippery Fish\n",
              "0                                          ['Summer Salt']                                        Sweet to Me\n",
              "0                                         ['Trippie Redd']                                           Together\n",
              "0                                           ['Zach Bryan']                                 Letting Someone Go\n",
              "0        ['Steven Universe', 'Deedee Magno Hall', 'Este...  Peace and Love on the Planet Earth (feat. Zach...\n",
              "0                       ['Adventure Time', 'Olivia Olson']              Everything Stays (feat. Olivia Olson)\n",
              "0                                  ['Gregory Alan Isakov']                                          Amsterdam\n",
              "0                                         ['Charlie Rich']                                Behind Closed Doors\n",
              "0                                          ['Norah Jones']                                     Don't Know Why"
            ]
          },
          "metadata": {
            "tags": []
          }
        },
        {
          "output_type": "display_data",
          "data": {
            "text/html": [
              "<div>\n",
              "<style scoped>\n",
              "    .dataframe tbody tr th:only-of-type {\n",
              "        vertical-align: middle;\n",
              "    }\n",
              "\n",
              "    .dataframe tbody tr th {\n",
              "        vertical-align: top;\n",
              "    }\n",
              "\n",
              "    .dataframe thead th {\n",
              "        text-align: right;\n",
              "    }\n",
              "</style>\n",
              "<table border=\"1\" class=\"dataframe\">\n",
              "  <thead>\n",
              "    <tr style=\"text-align: right;\">\n",
              "      <th></th>\n",
              "      <th>artists</th>\n",
              "      <th>name</th>\n",
              "    </tr>\n",
              "    <tr>\n",
              "      <th>cluster</th>\n",
              "      <th></th>\n",
              "      <th></th>\n",
              "    </tr>\n",
              "  </thead>\n",
              "  <tbody>\n",
              "    <tr>\n",
              "      <th>1</th>\n",
              "      <td>['Don Omar', 'Mackie Ranks']</td>\n",
              "      <td>En Su Nota</td>\n",
              "    </tr>\n",
              "    <tr>\n",
              "      <th>1</th>\n",
              "      <td>['Hombres G']</td>\n",
              "      <td>Devuélveme a mi chica</td>\n",
              "    </tr>\n",
              "    <tr>\n",
              "      <th>1</th>\n",
              "      <td>['Spencer Crandall', 'Julia Cole']</td>\n",
              "      <td>Things I Can't Say (feat. Julia Cole)</td>\n",
              "    </tr>\n",
              "    <tr>\n",
              "      <th>1</th>\n",
              "      <td>[\"Los Yonic's\"]</td>\n",
              "      <td>Palabras Tristes</td>\n",
              "    </tr>\n",
              "    <tr>\n",
              "      <th>1</th>\n",
              "      <td>['Hanson']</td>\n",
              "      <td>MMMBop</td>\n",
              "    </tr>\n",
              "    <tr>\n",
              "      <th>1</th>\n",
              "      <td>['Lizzo']</td>\n",
              "      <td>Good as Hell</td>\n",
              "    </tr>\n",
              "    <tr>\n",
              "      <th>1</th>\n",
              "      <td>['Alan Jackson']</td>\n",
              "      <td>Chasin' That Neon Rainbow</td>\n",
              "    </tr>\n",
              "    <tr>\n",
              "      <th>1</th>\n",
              "      <td>['Nicky Jam', 'Ozuna']</td>\n",
              "      <td>Te Robaré</td>\n",
              "    </tr>\n",
              "    <tr>\n",
              "      <th>1</th>\n",
              "      <td>['Del The Funky Homosapien']</td>\n",
              "      <td>Mistadobalina</td>\n",
              "    </tr>\n",
              "    <tr>\n",
              "      <th>1</th>\n",
              "      <td>['Joe Budden']</td>\n",
              "      <td>Pump It Up</td>\n",
              "    </tr>\n",
              "  </tbody>\n",
              "</table>\n",
              "</div>"
            ],
            "text/plain": [
              "                                    artists                                   name\n",
              "cluster                                                                           \n",
              "1              ['Don Omar', 'Mackie Ranks']                             En Su Nota\n",
              "1                             ['Hombres G']                  Devuélveme a mi chica\n",
              "1        ['Spencer Crandall', 'Julia Cole']  Things I Can't Say (feat. Julia Cole)\n",
              "1                           [\"Los Yonic's\"]                       Palabras Tristes\n",
              "1                                ['Hanson']                                 MMMBop\n",
              "1                                 ['Lizzo']                           Good as Hell\n",
              "1                          ['Alan Jackson']              Chasin' That Neon Rainbow\n",
              "1                    ['Nicky Jam', 'Ozuna']                              Te Robaré\n",
              "1              ['Del The Funky Homosapien']                          Mistadobalina\n",
              "1                            ['Joe Budden']                             Pump It Up"
            ]
          },
          "metadata": {
            "tags": []
          }
        },
        {
          "output_type": "display_data",
          "data": {
            "text/html": [
              "<div>\n",
              "<style scoped>\n",
              "    .dataframe tbody tr th:only-of-type {\n",
              "        vertical-align: middle;\n",
              "    }\n",
              "\n",
              "    .dataframe tbody tr th {\n",
              "        vertical-align: top;\n",
              "    }\n",
              "\n",
              "    .dataframe thead th {\n",
              "        text-align: right;\n",
              "    }\n",
              "</style>\n",
              "<table border=\"1\" class=\"dataframe\">\n",
              "  <thead>\n",
              "    <tr style=\"text-align: right;\">\n",
              "      <th></th>\n",
              "      <th>artists</th>\n",
              "      <th>name</th>\n",
              "    </tr>\n",
              "    <tr>\n",
              "      <th>cluster</th>\n",
              "      <th></th>\n",
              "      <th></th>\n",
              "    </tr>\n",
              "  </thead>\n",
              "  <tbody>\n",
              "    <tr>\n",
              "      <th>2</th>\n",
              "      <td>['Rain Sounds Factory STHLM']</td>\n",
              "      <td>Rain Sound : Dark Sky</td>\n",
              "    </tr>\n",
              "    <tr>\n",
              "      <th>2</th>\n",
              "      <td>['Jimi Hendrix']</td>\n",
              "      <td>Hey Joe</td>\n",
              "    </tr>\n",
              "    <tr>\n",
              "      <th>2</th>\n",
              "      <td>['Radiohead']</td>\n",
              "      <td>The National Anthem</td>\n",
              "    </tr>\n",
              "    <tr>\n",
              "      <th>2</th>\n",
              "      <td>['Brian Tyler']</td>\n",
              "      <td>Iron Man 3</td>\n",
              "    </tr>\n",
              "    <tr>\n",
              "      <th>2</th>\n",
              "      <td>['ODESZA']</td>\n",
              "      <td>A Moment Apart</td>\n",
              "    </tr>\n",
              "    <tr>\n",
              "      <th>2</th>\n",
              "      <td>['Calvin Harris', 'Kelis']</td>\n",
              "      <td>Bounce (feat. Kelis) - Radio Edit</td>\n",
              "    </tr>\n",
              "    <tr>\n",
              "      <th>2</th>\n",
              "      <td>['Wardruna']</td>\n",
              "      <td>Fehu</td>\n",
              "    </tr>\n",
              "    <tr>\n",
              "      <th>2</th>\n",
              "      <td>['Sound Library XL']</td>\n",
              "      <td>Calming Water</td>\n",
              "    </tr>\n",
              "    <tr>\n",
              "      <th>2</th>\n",
              "      <td>['AC/DC']</td>\n",
              "      <td>Sin City</td>\n",
              "    </tr>\n",
              "    <tr>\n",
              "      <th>2</th>\n",
              "      <td>['Nicolas Jaar']</td>\n",
              "      <td>Mi Mujer</td>\n",
              "    </tr>\n",
              "  </tbody>\n",
              "</table>\n",
              "</div>"
            ],
            "text/plain": [
              "                               artists                               name\n",
              "cluster                                                                  \n",
              "2        ['Rain Sounds Factory STHLM']              Rain Sound : Dark Sky\n",
              "2                     ['Jimi Hendrix']                            Hey Joe\n",
              "2                        ['Radiohead']                The National Anthem\n",
              "2                      ['Brian Tyler']                         Iron Man 3\n",
              "2                           ['ODESZA']                     A Moment Apart\n",
              "2           ['Calvin Harris', 'Kelis']  Bounce (feat. Kelis) - Radio Edit\n",
              "2                         ['Wardruna']                               Fehu\n",
              "2                 ['Sound Library XL']                      Calming Water\n",
              "2                            ['AC/DC']                           Sin City\n",
              "2                     ['Nicolas Jaar']                           Mi Mujer"
            ]
          },
          "metadata": {
            "tags": []
          }
        },
        {
          "output_type": "display_data",
          "data": {
            "text/html": [
              "<div>\n",
              "<style scoped>\n",
              "    .dataframe tbody tr th:only-of-type {\n",
              "        vertical-align: middle;\n",
              "    }\n",
              "\n",
              "    .dataframe tbody tr th {\n",
              "        vertical-align: top;\n",
              "    }\n",
              "\n",
              "    .dataframe thead th {\n",
              "        text-align: right;\n",
              "    }\n",
              "</style>\n",
              "<table border=\"1\" class=\"dataframe\">\n",
              "  <thead>\n",
              "    <tr style=\"text-align: right;\">\n",
              "      <th></th>\n",
              "      <th>artists</th>\n",
              "      <th>name</th>\n",
              "    </tr>\n",
              "    <tr>\n",
              "      <th>cluster</th>\n",
              "      <th></th>\n",
              "      <th></th>\n",
              "    </tr>\n",
              "  </thead>\n",
              "  <tbody>\n",
              "    <tr>\n",
              "      <th>3</th>\n",
              "      <td>['Anuel AA', 'KAROL G']</td>\n",
              "      <td>Secreto</td>\n",
              "    </tr>\n",
              "    <tr>\n",
              "      <th>3</th>\n",
              "      <td>['LDNE']</td>\n",
              "      <td>Labios Rojos</td>\n",
              "    </tr>\n",
              "    <tr>\n",
              "      <th>3</th>\n",
              "      <td>['Vitas']</td>\n",
              "      <td>7 элемент</td>\n",
              "    </tr>\n",
              "    <tr>\n",
              "      <th>3</th>\n",
              "      <td>['Free Nationals', 'Chronixx']</td>\n",
              "      <td>Eternal Light</td>\n",
              "    </tr>\n",
              "    <tr>\n",
              "      <th>3</th>\n",
              "      <td>HVME</td>\n",
              "      <td>Alright (feat. 24kGoldn &amp; Quavo)</td>\n",
              "    </tr>\n",
              "    <tr>\n",
              "      <th>3</th>\n",
              "      <td>['TLC']</td>\n",
              "      <td>Waterfalls</td>\n",
              "    </tr>\n",
              "    <tr>\n",
              "      <th>3</th>\n",
              "      <td>['José Alfredo Jimenez']</td>\n",
              "      <td>Que Te Vaya Bonito</td>\n",
              "    </tr>\n",
              "    <tr>\n",
              "      <th>3</th>\n",
              "      <td>['Dead Horses']</td>\n",
              "      <td>Turntable</td>\n",
              "    </tr>\n",
              "    <tr>\n",
              "      <th>3</th>\n",
              "      <td>['Santana']</td>\n",
              "      <td>Oye Como Va</td>\n",
              "    </tr>\n",
              "    <tr>\n",
              "      <th>3</th>\n",
              "      <td>['José Luis Perales']</td>\n",
              "      <td>Qué pasará mañana</td>\n",
              "    </tr>\n",
              "  </tbody>\n",
              "</table>\n",
              "</div>"
            ],
            "text/plain": [
              "                                artists                              name\n",
              "cluster                                                                  \n",
              "3               ['Anuel AA', 'KAROL G']                           Secreto\n",
              "3                              ['LDNE']                      Labios Rojos\n",
              "3                             ['Vitas']                         7 элемент\n",
              "3        ['Free Nationals', 'Chronixx']                     Eternal Light\n",
              "3                                  HVME  Alright (feat. 24kGoldn & Quavo)\n",
              "3                               ['TLC']                        Waterfalls\n",
              "3              ['José Alfredo Jimenez']                Que Te Vaya Bonito\n",
              "3                       ['Dead Horses']                         Turntable\n",
              "3                           ['Santana']                       Oye Como Va\n",
              "3                 ['José Luis Perales']                 Qué pasará mañana"
            ]
          },
          "metadata": {
            "tags": []
          }
        },
        {
          "output_type": "display_data",
          "data": {
            "text/html": [
              "<div>\n",
              "<style scoped>\n",
              "    .dataframe tbody tr th:only-of-type {\n",
              "        vertical-align: middle;\n",
              "    }\n",
              "\n",
              "    .dataframe tbody tr th {\n",
              "        vertical-align: top;\n",
              "    }\n",
              "\n",
              "    .dataframe thead th {\n",
              "        text-align: right;\n",
              "    }\n",
              "</style>\n",
              "<table border=\"1\" class=\"dataframe\">\n",
              "  <thead>\n",
              "    <tr style=\"text-align: right;\">\n",
              "      <th></th>\n",
              "      <th>artists</th>\n",
              "      <th>name</th>\n",
              "    </tr>\n",
              "    <tr>\n",
              "      <th>cluster</th>\n",
              "      <th></th>\n",
              "      <th></th>\n",
              "    </tr>\n",
              "  </thead>\n",
              "  <tbody>\n",
              "    <tr>\n",
              "      <th>4</th>\n",
              "      <td>['Tori Kelly']</td>\n",
              "      <td>Dear No One</td>\n",
              "    </tr>\n",
              "    <tr>\n",
              "      <th>4</th>\n",
              "      <td>['Fleetwood Mac']</td>\n",
              "      <td>Silver Springs - 2004 Remaster</td>\n",
              "    </tr>\n",
              "    <tr>\n",
              "      <th>4</th>\n",
              "      <td>['Oasis']</td>\n",
              "      <td>Champagne Supernova</td>\n",
              "    </tr>\n",
              "    <tr>\n",
              "      <th>4</th>\n",
              "      <td>['Iamjakehill']</td>\n",
              "      <td>Die a King</td>\n",
              "    </tr>\n",
              "    <tr>\n",
              "      <th>4</th>\n",
              "      <td>['Cody Johnson']</td>\n",
              "      <td>With You I Am</td>\n",
              "    </tr>\n",
              "    <tr>\n",
              "      <th>4</th>\n",
              "      <td>['Lenny Kravitz']</td>\n",
              "      <td>Can't Get You Off My Mind</td>\n",
              "    </tr>\n",
              "    <tr>\n",
              "      <th>4</th>\n",
              "      <td>['Alejandro Fernández', 'Christina Aguilera']</td>\n",
              "      <td>Hoy Tengo Ganas De Ti</td>\n",
              "    </tr>\n",
              "    <tr>\n",
              "      <th>4</th>\n",
              "      <td>['Lil Durk', 'Lil Baby', 'Polo G']</td>\n",
              "      <td>3 Headed Goat (feat. Lil Baby &amp; Polo G)</td>\n",
              "    </tr>\n",
              "    <tr>\n",
              "      <th>4</th>\n",
              "      <td>['Matt Redman']</td>\n",
              "      <td>10,000 Reasons (Bless The Lord) [Radio Version...</td>\n",
              "    </tr>\n",
              "    <tr>\n",
              "      <th>4</th>\n",
              "      <td>['Kenny Loggins']</td>\n",
              "      <td>Meet Me Half Way - From \"Over The Top\" Soundtrack</td>\n",
              "    </tr>\n",
              "  </tbody>\n",
              "</table>\n",
              "</div>"
            ],
            "text/plain": [
              "                                               artists                                               name\n",
              "cluster                                                                                                  \n",
              "4                                       ['Tori Kelly']                                        Dear No One\n",
              "4                                    ['Fleetwood Mac']                     Silver Springs - 2004 Remaster\n",
              "4                                            ['Oasis']                                Champagne Supernova\n",
              "4                                      ['Iamjakehill']                                         Die a King\n",
              "4                                     ['Cody Johnson']                                      With You I Am\n",
              "4                                    ['Lenny Kravitz']                          Can't Get You Off My Mind\n",
              "4        ['Alejandro Fernández', 'Christina Aguilera']                              Hoy Tengo Ganas De Ti\n",
              "4                   ['Lil Durk', 'Lil Baby', 'Polo G']            3 Headed Goat (feat. Lil Baby & Polo G)\n",
              "4                                      ['Matt Redman']  10,000 Reasons (Bless The Lord) [Radio Version...\n",
              "4                                    ['Kenny Loggins']  Meet Me Half Way - From \"Over The Top\" Soundtrack"
            ]
          },
          "metadata": {
            "tags": []
          }
        },
        {
          "output_type": "display_data",
          "data": {
            "text/html": [
              "<div>\n",
              "<style scoped>\n",
              "    .dataframe tbody tr th:only-of-type {\n",
              "        vertical-align: middle;\n",
              "    }\n",
              "\n",
              "    .dataframe tbody tr th {\n",
              "        vertical-align: top;\n",
              "    }\n",
              "\n",
              "    .dataframe thead th {\n",
              "        text-align: right;\n",
              "    }\n",
              "</style>\n",
              "<table border=\"1\" class=\"dataframe\">\n",
              "  <thead>\n",
              "    <tr style=\"text-align: right;\">\n",
              "      <th></th>\n",
              "      <th>artists</th>\n",
              "      <th>name</th>\n",
              "    </tr>\n",
              "    <tr>\n",
              "      <th>cluster</th>\n",
              "      <th></th>\n",
              "      <th></th>\n",
              "    </tr>\n",
              "  </thead>\n",
              "  <tbody>\n",
              "    <tr>\n",
              "      <th>5</th>\n",
              "      <td>['Benjy Wertheimer', 'John De Kadt']</td>\n",
              "      <td>One River</td>\n",
              "    </tr>\n",
              "    <tr>\n",
              "      <th>5</th>\n",
              "      <td>['Cigarettes After Sex']</td>\n",
              "      <td>Affection</td>\n",
              "    </tr>\n",
              "    <tr>\n",
              "      <th>5</th>\n",
              "      <td>['Claude Debussy', 'Lavinia Meijer', 'Amsterda...</td>\n",
              "      <td>Dances for Harp and Orchestra, L. 103: 2. Dans...</td>\n",
              "    </tr>\n",
              "    <tr>\n",
              "      <th>5</th>\n",
              "      <td>['Llusion']</td>\n",
              "      <td>walk but in a garden</td>\n",
              "    </tr>\n",
              "    <tr>\n",
              "      <th>5</th>\n",
              "      <td>['Václav Slezák']</td>\n",
              "      <td>Trpělivost růže přináší</td>\n",
              "    </tr>\n",
              "    <tr>\n",
              "      <th>5</th>\n",
              "      <td>['Michel LeBond']</td>\n",
              "      <td>Primordeal Instincts</td>\n",
              "    </tr>\n",
              "    <tr>\n",
              "      <th>5</th>\n",
              "      <td>['Deep Sleep Music Collective']</td>\n",
              "      <td>Purple Star</td>\n",
              "    </tr>\n",
              "    <tr>\n",
              "      <th>5</th>\n",
              "      <td>['Sufjan Stevens']</td>\n",
              "      <td>Futile Devices (Doveman Remix)</td>\n",
              "    </tr>\n",
              "    <tr>\n",
              "      <th>5</th>\n",
              "      <td>['August Wilhelmsson']</td>\n",
              "      <td>Somewhere In Between</td>\n",
              "    </tr>\n",
              "    <tr>\n",
              "      <th>5</th>\n",
              "      <td>['Miracle Tones', 'Solfeggio Healing Frequenci...</td>\n",
              "      <td>528 Hz Love Frequency</td>\n",
              "    </tr>\n",
              "  </tbody>\n",
              "</table>\n",
              "</div>"
            ],
            "text/plain": [
              "                                                   artists                                               name\n",
              "cluster                                                                                                      \n",
              "5                     ['Benjy Wertheimer', 'John De Kadt']                                          One River\n",
              "5                                 ['Cigarettes After Sex']                                          Affection\n",
              "5        ['Claude Debussy', 'Lavinia Meijer', 'Amsterda...  Dances for Harp and Orchestra, L. 103: 2. Dans...\n",
              "5                                              ['Llusion']                               walk but in a garden\n",
              "5                                        ['Václav Slezák']                            Trpělivost růže přináší\n",
              "5                                        ['Michel LeBond']                               Primordeal Instincts\n",
              "5                          ['Deep Sleep Music Collective']                                        Purple Star\n",
              "5                                       ['Sufjan Stevens']                     Futile Devices (Doveman Remix)\n",
              "5                                   ['August Wilhelmsson']                               Somewhere In Between\n",
              "5        ['Miracle Tones', 'Solfeggio Healing Frequenci...                              528 Hz Love Frequency"
            ]
          },
          "metadata": {
            "tags": []
          }
        }
      ]
    },
    {
      "cell_type": "code",
      "metadata": {
        "id": "ia2uQ5OabvmM"
      },
      "source": [
        ""
      ],
      "execution_count": null,
      "outputs": []
    },
    {
      "cell_type": "code",
      "metadata": {
        "id": "ZDiOjknGciyj"
      },
      "source": [
        ""
      ],
      "execution_count": null,
      "outputs": []
    },
    {
      "cell_type": "code",
      "metadata": {
        "colab": {
          "base_uri": "https://localhost:8080/"
        },
        "id": "2KygpVEvWgKA",
        "outputId": "3a9becb9-8166-4758-b738-435551b78b89"
      },
      "source": [
        "\n",
        "pca = PCA(n_components=3, random_state=0)\n",
        "songs_pca = pca.fit_transform(songs_scaled)\n",
        "pca.explained_variance_ratio_.sum()"
      ],
      "execution_count": null,
      "outputs": [
        {
          "output_type": "execute_result",
          "data": {
            "text/plain": [
              "0.9269998411293283"
            ]
          },
          "metadata": {
            "tags": []
          },
          "execution_count": 252
        }
      ]
    },
    {
      "cell_type": "code",
      "metadata": {
        "colab": {
          "base_uri": "https://localhost:8080/",
          "height": 200
        },
        "id": "Q_t88qM1XAGY",
        "outputId": "8101dcd0-c3f2-4e3a-9984-4eea5af98792"
      },
      "source": [
        "df_pca = pd.DataFrame(songs_pca, columns=['C1', 'C2', 'C3'])\n",
        "df_pca['cluster'] = model.labels_\n",
        "df_pca.head()"
      ],
      "execution_count": null,
      "outputs": [
        {
          "output_type": "execute_result",
          "data": {
            "text/html": [
              "<div>\n",
              "<style scoped>\n",
              "    .dataframe tbody tr th:only-of-type {\n",
              "        vertical-align: middle;\n",
              "    }\n",
              "\n",
              "    .dataframe tbody tr th {\n",
              "        vertical-align: top;\n",
              "    }\n",
              "\n",
              "    .dataframe thead th {\n",
              "        text-align: right;\n",
              "    }\n",
              "</style>\n",
              "<table border=\"1\" class=\"dataframe\">\n",
              "  <thead>\n",
              "    <tr style=\"text-align: right;\">\n",
              "      <th></th>\n",
              "      <th>C1</th>\n",
              "      <th>C2</th>\n",
              "      <th>C3</th>\n",
              "      <th>cluster</th>\n",
              "    </tr>\n",
              "  </thead>\n",
              "  <tbody>\n",
              "    <tr>\n",
              "      <th>0</th>\n",
              "      <td>-0.403860</td>\n",
              "      <td>-0.597870</td>\n",
              "      <td>0.399024</td>\n",
              "      <td>3</td>\n",
              "    </tr>\n",
              "    <tr>\n",
              "      <th>1</th>\n",
              "      <td>-0.160458</td>\n",
              "      <td>-0.883028</td>\n",
              "      <td>0.541851</td>\n",
              "      <td>3</td>\n",
              "    </tr>\n",
              "    <tr>\n",
              "      <th>2</th>\n",
              "      <td>-0.835013</td>\n",
              "      <td>0.394718</td>\n",
              "      <td>-0.409048</td>\n",
              "      <td>4</td>\n",
              "    </tr>\n",
              "    <tr>\n",
              "      <th>3</th>\n",
              "      <td>-0.791671</td>\n",
              "      <td>-0.493519</td>\n",
              "      <td>0.501253</td>\n",
              "      <td>1</td>\n",
              "    </tr>\n",
              "    <tr>\n",
              "      <th>4</th>\n",
              "      <td>-1.024221</td>\n",
              "      <td>0.107289</td>\n",
              "      <td>-0.004981</td>\n",
              "      <td>1</td>\n",
              "    </tr>\n",
              "  </tbody>\n",
              "</table>\n",
              "</div>"
            ],
            "text/plain": [
              "         C1        C2        C3  cluster\n",
              "0 -0.403860 -0.597870  0.399024        3\n",
              "1 -0.160458 -0.883028  0.541851        3\n",
              "2 -0.835013  0.394718 -0.409048        4\n",
              "3 -0.791671 -0.493519  0.501253        1\n",
              "4 -1.024221  0.107289 -0.004981        1"
            ]
          },
          "metadata": {
            "tags": []
          },
          "execution_count": 253
        }
      ]
    },
    {
      "cell_type": "code",
      "metadata": {
        "colab": {
          "base_uri": "https://localhost:8080/"
        },
        "id": "a2VAjSjGXbuC",
        "outputId": "be8fd662-73c9-4d22-8524-fdc095f1a931"
      },
      "source": [
        "sampled_clusters_pca = pd.DataFrame()\n",
        "\n",
        "for c in df_pca.cluster.unique():\n",
        "    df_cluster_sampled_pca = df_pca[df_pca.cluster == c].sample(n=int(minor_cluster), random_state=20)\n",
        "    sampled_clusters_pca = pd.concat([sampled_clusters_pca,df_cluster_sampled_pca], axis=0)\n",
        "sampled_clusters_pca.cluster.value_counts()"
      ],
      "execution_count": null,
      "outputs": [
        {
          "output_type": "execute_result",
          "data": {
            "text/plain": [
              "3    846\n",
              "2    846\n",
              "5    846\n",
              "1    846\n",
              "4    846\n",
              "0    846\n",
              "Name: cluster, dtype: int64"
            ]
          },
          "metadata": {
            "tags": []
          },
          "execution_count": 254
        }
      ]
    },
    {
      "cell_type": "code",
      "metadata": {
        "id": "Sd-1-q-HXXme"
      },
      "source": [
        "def clusters_view_using_pca(data_graph):\n",
        "  sns.scatterplot(x='C1', y='C2', hue='cluster', data=data_graph, legend=\"full\", palette='Paired')\n",
        "  plt.legend(bbox_to_anchor=(1.05, 1), loc=2, borderaxespad=0.)\n",
        "  plt.title('Clusters view using PCA')\n",
        "  plt.show()"
      ],
      "execution_count": null,
      "outputs": []
    },
    {
      "cell_type": "code",
      "metadata": {
        "colab": {
          "base_uri": "https://localhost:8080/",
          "height": 295
        },
        "id": "5nX5yGimYwO9",
        "outputId": "5679402b-b0c0-4b86-db16-0d221d26e69f"
      },
      "source": [
        "clusters_view_using_pca(sampled_clusters_pca)"
      ],
      "execution_count": null,
      "outputs": [
        {
          "output_type": "display_data",
          "data": {
            "image/png": "[encoded data removed]",
            "text/plain": [
              "<Figure size 432x288 with 1 Axes>"
            ]
          },
          "metadata": {
            "tags": []
          }
        }
      ]
    },
    {
      "cell_type": "code",
      "metadata": {
        "colab": {
          "base_uri": "https://localhost:8080/",
          "height": 318
        },
        "id": "o4QKepNgYS6J",
        "outputId": "3d63f41a-61e4-4bcb-8b0e-d43766e2297a"
      },
      "source": [
        "fig = plt.figure()\n",
        "fig.suptitle('Clusters view with 3 dimensions using PCA')\n",
        "ax = Axes3D(fig)\n",
        "\n",
        "ax.scatter(df_pca['C1'], df_pca['C2'], df_pca['C3'],\n",
        "           c=df_pca['cluster'], cmap='Paired')\n",
        "\n",
        "ax.set_xlabel('C1')\n",
        "ax.set_ylabel('C2')\n",
        "ax.set_zlabel('C3')\n",
        "plt.show()"
      ],
      "execution_count": null,
      "outputs": [
        {
          "output_type": "display_data",
          "data": {
            "image/png": "[encoded data removed]",
            "text/plain": [
              "<Figure size 432x288 with 1 Axes>"
            ]
          },
          "metadata": {
            "tags": []
          }
        }
      ]
    },
    {
      "cell_type": "code",
      "metadata": {
        "colab": {
          "background_save": true
        },
        "id": "NhhCJVGZYjPR"
      },
      "source": [
        "tsne = TSNE(n_components=2, perplexity=50, random_state=42)\n",
        "songs_tsne = tsne.fit_transform(songs_scaled)"
      ],
      "execution_count": null,
      "outputs": []
    },
    {
      "cell_type": "code",
      "metadata": {
        "colab": {
          "background_save": true
        },
        "id": "O6e0heQZY93C",
        "outputId": "a2891470-765d-44ed-96ad-30f2a78ad6cf"
      },
      "source": [
        "df_tsne = pd.DataFrame(songs_tsne, columns=['C1', 'C2'])\n",
        "df_tsne['cluster'] = model.labels_\n",
        "df_tsne.head()"
      ],
      "execution_count": null,
      "outputs": [
        {
          "output_type": "execute_result",
          "data": {
            "text/html": [
              "<div>\n",
              "<style scoped>\n",
              "    .dataframe tbody tr th:only-of-type {\n",
              "        vertical-align: middle;\n",
              "    }\n",
              "\n",
              "    .dataframe tbody tr th {\n",
              "        vertical-align: top;\n",
              "    }\n",
              "\n",
              "    .dataframe thead th {\n",
              "        text-align: right;\n",
              "    }\n",
              "</style>\n",
              "<table border=\"1\" class=\"dataframe\">\n",
              "  <thead>\n",
              "    <tr style=\"text-align: right;\">\n",
              "      <th></th>\n",
              "      <th>C1</th>\n",
              "      <th>C2</th>\n",
              "      <th>cluster</th>\n",
              "    </tr>\n",
              "  </thead>\n",
              "  <tbody>\n",
              "    <tr>\n",
              "      <th>0</th>\n",
              "      <td>-10.075361</td>\n",
              "      <td>12.299200</td>\n",
              "      <td>3</td>\n",
              "    </tr>\n",
              "    <tr>\n",
              "      <th>1</th>\n",
              "      <td>-8.692796</td>\n",
              "      <td>37.337086</td>\n",
              "      <td>3</td>\n",
              "    </tr>\n",
              "    <tr>\n",
              "      <th>2</th>\n",
              "      <td>-15.671061</td>\n",
              "      <td>-34.538998</td>\n",
              "      <td>4</td>\n",
              "    </tr>\n",
              "    <tr>\n",
              "      <th>3</th>\n",
              "      <td>-14.605363</td>\n",
              "      <td>13.708733</td>\n",
              "      <td>1</td>\n",
              "    </tr>\n",
              "    <tr>\n",
              "      <th>4</th>\n",
              "      <td>-31.120131</td>\n",
              "      <td>-18.820791</td>\n",
              "      <td>1</td>\n",
              "    </tr>\n",
              "  </tbody>\n",
              "</table>\n",
              "</div>"
            ],
            "text/plain": [
              "          C1         C2  cluster\n",
              "0 -10.075361  12.299200        3\n",
              "1  -8.692796  37.337086        3\n",
              "2 -15.671061 -34.538998        4\n",
              "3 -14.605363  13.708733        1\n",
              "4 -31.120131 -18.820791        1"
            ]
          },
          "metadata": {
            "tags": []
          },
          "execution_count": 0
        }
      ]
    },
    {
      "cell_type": "code",
      "metadata": {
        "colab": {
          "background_save": true
        },
        "id": "fJuDCt5icmO4",
        "outputId": "baed2438-e466-4906-b401-d1e712ce4c6a"
      },
      "source": [
        "sampled_clusters_tsne = pd.DataFrame()\n",
        "\n",
        "for c in df_tsne.cluster.unique():\n",
        "    df_cluster_sampled_tsne = df_tsne[df_tsne.cluster == c].sample(n=int(minor_cluster), random_state=42)\n",
        "    sampled_clusters_tsne = pd.concat([sampled_clusters_tsne,df_cluster_sampled_tsne], axis=0)\n",
        "sampled_clusters_tsne.cluster.value_counts()"
      ],
      "execution_count": null,
      "outputs": [
        {
          "output_type": "execute_result",
          "data": {
            "text/plain": [
              "3    846\n",
              "2    846\n",
              "5    846\n",
              "1    846\n",
              "4    846\n",
              "0    846\n",
              "Name: cluster, dtype: int64"
            ]
          },
          "metadata": {
            "tags": []
          },
          "execution_count": 0
        }
      ]
    },
    {
      "cell_type": "code",
      "metadata": {
        "colab": {
          "background_save": true
        },
        "id": "LZpfuY_hecXG",
        "outputId": "fd631f90-7a18-4d56-fa48-295b7551e389"
      },
      "source": [
        "sns.scatterplot(x='C1', y='C2', hue='cluster', data=sampled_clusters_tsne, legend=\"full\", palette='Paired')\n",
        "plt.legend(bbox_to_anchor=(1.05, 1), loc=2, borderaxespad=0.)\n",
        "plt.title('Clusters view using t-SNE')\n",
        "plt.show()"
      ],
      "execution_count": null,
      "outputs": [
        {
          "output_type": "display_data",
          "data": {
            "image/png": "[encoded data removed]",
            "text/plain": [
              "<Figure size 432x288 with 1 Axes>"
            ]
          },
          "metadata": {
            "tags": []
          }
        }
      ]
    },
    {
      "cell_type": "code",
      "metadata": {
        "colab": {
          "background_save": true
        },
        "id": "gzDSvz7-_UzJ",
        "outputId": "f1ba2573-bf45-4c58-d358-b8fdf85de06c"
      },
      "source": [
        "df_playlist_scaled['cluster'] = model_playlist.labels_\n",
        "\n",
        "df_playlist_scaled['cluster'].value_counts().plot(kind='bar')\n",
        "plt.xlabel('Cluster')\n",
        "plt.ylabel('Amount of songs')\n",
        "plt.title('Amount of songs per cluster')\n",
        "plt.show()"
      ],
      "execution_count": null,
      "outputs": [
        {
          "output_type": "display_data",
          "data": {
            "image/png": "[encoded data removed]",
            "text/plain": [
              "<Figure size 432x288 with 1 Axes>"
            ]
          },
          "metadata": {
            "tags": []
          }
        }
      ]
    },
    {
      "cell_type": "code",
      "metadata": {
        "colab": {
          "background_save": true
        },
        "id": "A0RoPRn7cpFR",
        "outputId": "206047f4-81d6-4827-96f1-22a6384cfef1"
      },
      "source": [
        "songs_pca = pca.fit_transform(playlist_scaled)\n",
        "pca.explained_variance_ratio_.sum()\n",
        "df_playlist_pca = pd.DataFrame(songs_pca, columns=['C1', 'C2', 'C3'])\n",
        "df_playlist_pca['cluster'] = model_playlist.labels_\n",
        "df_playlist_pca"
      ],
      "execution_count": null,
      "outputs": [
        {
          "output_type": "execute_result",
          "data": {
            "text/html": [
              "<div>\n",
              "<style scoped>\n",
              "    .dataframe tbody tr th:only-of-type {\n",
              "        vertical-align: middle;\n",
              "    }\n",
              "\n",
              "    .dataframe tbody tr th {\n",
              "        vertical-align: top;\n",
              "    }\n",
              "\n",
              "    .dataframe thead th {\n",
              "        text-align: right;\n",
              "    }\n",
              "</style>\n",
              "<table border=\"1\" class=\"dataframe\">\n",
              "  <thead>\n",
              "    <tr style=\"text-align: right;\">\n",
              "      <th></th>\n",
              "      <th>C1</th>\n",
              "      <th>C2</th>\n",
              "      <th>C3</th>\n",
              "      <th>cluster</th>\n",
              "    </tr>\n",
              "  </thead>\n",
              "  <tbody>\n",
              "    <tr>\n",
              "      <th>0</th>\n",
              "      <td>-1.325905</td>\n",
              "      <td>2.949344</td>\n",
              "      <td>0.772711</td>\n",
              "      <td>1</td>\n",
              "    </tr>\n",
              "    <tr>\n",
              "      <th>1</th>\n",
              "      <td>-0.488013</td>\n",
              "      <td>-0.714218</td>\n",
              "      <td>0.229606</td>\n",
              "      <td>0</td>\n",
              "    </tr>\n",
              "    <tr>\n",
              "      <th>2</th>\n",
              "      <td>0.169732</td>\n",
              "      <td>-0.873024</td>\n",
              "      <td>0.955429</td>\n",
              "      <td>0</td>\n",
              "    </tr>\n",
              "    <tr>\n",
              "      <th>3</th>\n",
              "      <td>3.143727</td>\n",
              "      <td>0.698019</td>\n",
              "      <td>0.065458</td>\n",
              "      <td>2</td>\n",
              "    </tr>\n",
              "    <tr>\n",
              "      <th>4</th>\n",
              "      <td>0.783940</td>\n",
              "      <td>0.740108</td>\n",
              "      <td>-1.108276</td>\n",
              "      <td>5</td>\n",
              "    </tr>\n",
              "    <tr>\n",
              "      <th>5</th>\n",
              "      <td>-1.426119</td>\n",
              "      <td>-0.372598</td>\n",
              "      <td>-0.716396</td>\n",
              "      <td>4</td>\n",
              "    </tr>\n",
              "    <tr>\n",
              "      <th>6</th>\n",
              "      <td>0.148347</td>\n",
              "      <td>-1.318138</td>\n",
              "      <td>1.141056</td>\n",
              "      <td>0</td>\n",
              "    </tr>\n",
              "    <tr>\n",
              "      <th>7</th>\n",
              "      <td>-1.123836</td>\n",
              "      <td>-0.588451</td>\n",
              "      <td>-0.486946</td>\n",
              "      <td>4</td>\n",
              "    </tr>\n",
              "    <tr>\n",
              "      <th>8</th>\n",
              "      <td>0.118128</td>\n",
              "      <td>-0.521042</td>\n",
              "      <td>-0.852641</td>\n",
              "      <td>3</td>\n",
              "    </tr>\n",
              "  </tbody>\n",
              "</table>\n",
              "</div>"
            ],
            "text/plain": [
              "         C1        C2        C3  cluster\n",
              "0 -1.325905  2.949344  0.772711        1\n",
              "1 -0.488013 -0.714218  0.229606        0\n",
              "2  0.169732 -0.873024  0.955429        0\n",
              "3  3.143727  0.698019  0.065458        2\n",
              "4  0.783940  0.740108 -1.108276        5\n",
              "5 -1.426119 -0.372598 -0.716396        4\n",
              "6  0.148347 -1.318138  1.141056        0\n",
              "7 -1.123836 -0.588451 -0.486946        4\n",
              "8  0.118128 -0.521042 -0.852641        3"
            ]
          },
          "metadata": {
            "tags": []
          },
          "execution_count": 0
        }
      ]
    },
    {
      "cell_type": "code",
      "metadata": {
        "colab": {
          "background_save": true
        },
        "id": "-TzIwJHf_xgl",
        "outputId": "b590b1b0-b576-48a6-fbac-1a7b8db3206a"
      },
      "source": [
        "sns.scatterplot(x='C1', y='C2', hue='cluster', data=df_playlist_pca, legend=\"full\", palette='Paired')"
      ],
      "execution_count": null,
      "outputs": [
        {
          "output_type": "execute_result",
          "data": {
            "text/plain": [
              "<matplotlib.axes._subplots.AxesSubplot at 0x7efdd30b48d0>"
            ]
          },
          "metadata": {
            "tags": []
          },
          "execution_count": 0
        },
        {
          "output_type": "display_data",
          "data": {
            "image/png": "[encoded data removed]",
            "text/plain": [
              "<Figure size 432x288 with 1 Axes>"
            ]
          },
          "metadata": {
            "tags": []
          }
        }
      ]
    },
    {
      "cell_type": "code",
      "metadata": {
        "colab": {
          "background_save": true
        },
        "id": "iZ4lAP8D-XNJ",
        "outputId": "3e941d67-737f-434e-e681-2248463f12c4"
      },
      "source": [
        "!pip install plotly"
      ],
      "execution_count": null,
      "outputs": [
        {
          "output_type": "stream",
          "text": [
            "Requirement already satisfied: plotly in /usr/local/lib/python3.7/dist-packages (4.4.1)\n",
            "Requirement already satisfied: six in /usr/local/lib/python3.7/dist-packages (from plotly) (1.15.0)\n",
            "Requirement already satisfied: retrying>=1.3.3 in /usr/local/lib/python3.7/dist-packages (from plotly) (1.3.3)\n"
          ],
          "name": "stdout"
        }
      ]
    },
    {
      "cell_type": "code",
      "metadata": {
        "colab": {
          "background_save": true
        },
        "id": "0s8KxcNtgwOF"
      },
      "source": [
        ""
      ],
      "execution_count": null,
      "outputs": []
    },
    {
      "cell_type": "code",
      "metadata": {
        "id": "Va2dSCnxemLG"
      },
      "source": [
        "df_playlist_scaled_f['playlist_track'] = 1\n",
        "\n",
        "# drop unnecessary features\n",
        "\n",
        "\n",
        "\n",
        "# label each label track as 0 in the playlist column\n",
        "df_song_scaled_f['playlist_track'] = 0"
      ],
      "execution_count": null,
      "outputs": []
    },
    {
      "cell_type": "code",
      "metadata": {
        "id": "Ftu9wZ8_gG9s"
      },
      "source": [
        "# create main dataframe using playlist songs and all label's songs, to be fed into model\n",
        "main_df = pd.concat([df_playlist_scaled_f, df_song_scaled_f], axis=0).reset_index(drop=True)\n",
        "\n",
        "# convert main dataframe to array\n",
        "main_array = np.array(main_df.drop(['name', 'artists','playlist_track'], axis=1))"
      ],
      "execution_count": null,
      "outputs": []
    },
    {
      "cell_type": "code",
      "metadata": {
        "id": "KR_zTiBvgaTK"
      },
      "source": [
        "\n",
        "k_means = KMeans(random_state=1, n_clusters=6) # default n_clusters = 8\n",
        "\n",
        "# fit to data\n",
        "k_means.fit(main_array)\n",
        "\n",
        "# predict which clusters each song belongs too\n",
        "predicted_clusters = k_means.fit_predict(main_array)\n",
        "\n",
        "# each instance was assigned to one of the clusters"
      ],
      "execution_count": null,
      "outputs": []
    },
    {
      "cell_type": "code",
      "metadata": {
        "colab": {
          "base_uri": "https://localhost:8080/"
        },
        "id": "HcwuwY3Rhn0v",
        "outputId": "ef3853ea-ced0-46ee-c0a8-e6bd3c1a2d18"
      },
      "source": [
        "print(predicted_clusters)\n"
      ],
      "execution_count": null,
      "outputs": [
        {
          "output_type": "stream",
          "text": [
            "[2 1 0 ... 1 4 1]\n"
          ],
          "name": "stdout"
        }
      ]
    },
    {
      "cell_type": "code",
      "metadata": {
        "id": "Y3jTVngYhsxU"
      },
      "source": [
        "pred_series = pd.Series(predicted_clusters)\n",
        "main_df_w_pred = pd.concat([main_df, pred_series], axis=1)\n",
        "main_df_w_pred.rename(columns={0:'cluster'},inplace=True)"
      ],
      "execution_count": null,
      "outputs": []
    },
    {
      "cell_type": "code",
      "metadata": {
        "colab": {
          "base_uri": "https://localhost:8080/"
        },
        "id": "3h9oJHIh68im",
        "outputId": "45721476-95dd-47cd-f83c-045c21f2341f"
      },
      "source": [
        "main_df_w_pred.cluster.unique()"
      ],
      "execution_count": null,
      "outputs": [
        {
          "output_type": "execute_result",
          "data": {
            "text/plain": [
              "array([2, 1, 0, 3, 5, 4], dtype=int32)"
            ]
          },
          "metadata": {
            "tags": []
          },
          "execution_count": 30
        }
      ]
    },
    {
      "cell_type": "code",
      "metadata": {
        "id": "bPC_QAXrh10H"
      },
      "source": [
        "# look at the clusters most similar to user's playlist\n",
        "relevant_clusters = main_df_w_pred['cluster'][main_df_w_pred.playlist_track==1]\n",
        "\n",
        "# drop the user playlist songs from df, so they aren't recommended again\n",
        "pred_df = main_df_w_pred.drop(main_df_w_pred[main_df_w_pred.playlist_track==1].index)"
      ],
      "execution_count": null,
      "outputs": []
    },
    {
      "cell_type": "code",
      "metadata": {
        "colab": {
          "base_uri": "https://localhost:8080/",
          "height": 412
        },
        "id": "oC5l-3HC5nXi",
        "outputId": "259436bf-0c32-4f3c-ffa5-c608bd16b74c"
      },
      "source": [
        "pred_df"
      ],
      "execution_count": null,
      "outputs": [
        {
          "output_type": "execute_result",
          "data": {
            "text/html": [
              "<div>\n",
              "<style scoped>\n",
              "    .dataframe tbody tr th:only-of-type {\n",
              "        vertical-align: middle;\n",
              "    }\n",
              "\n",
              "    .dataframe tbody tr th {\n",
              "        vertical-align: top;\n",
              "    }\n",
              "\n",
              "    .dataframe thead th {\n",
              "        text-align: right;\n",
              "    }\n",
              "</style>\n",
              "<table border=\"1\" class=\"dataframe\">\n",
              "  <thead>\n",
              "    <tr style=\"text-align: right;\">\n",
              "      <th></th>\n",
              "      <th>valence_scaled</th>\n",
              "      <th>acousticness_scaled</th>\n",
              "      <th>instrunentalness_scaled</th>\n",
              "      <th>energy_scaled</th>\n",
              "      <th>name</th>\n",
              "      <th>artists</th>\n",
              "      <th>playlist_track</th>\n",
              "      <th>cluster</th>\n",
              "    </tr>\n",
              "  </thead>\n",
              "  <tbody>\n",
              "    <tr>\n",
              "      <th>6</th>\n",
              "      <td>0.670021</td>\n",
              "      <td>0.241344</td>\n",
              "      <td>-0.291761</td>\n",
              "      <td>0.164143</td>\n",
              "      <td>good 4 u</td>\n",
              "      <td>Olivia Rodrigo</td>\n",
              "      <td>0</td>\n",
              "      <td>0</td>\n",
              "    </tr>\n",
              "    <tr>\n",
              "      <th>7</th>\n",
              "      <td>0.951852</td>\n",
              "      <td>0.108572</td>\n",
              "      <td>-0.291761</td>\n",
              "      <td>-0.547627</td>\n",
              "      <td>MONTERO (Call Me By Your Name)</td>\n",
              "      <td>Lil Nas X</td>\n",
              "      <td>0</td>\n",
              "      <td>0</td>\n",
              "    </tr>\n",
              "    <tr>\n",
              "      <th>8</th>\n",
              "      <td>-0.155343</td>\n",
              "      <td>-0.881274</td>\n",
              "      <td>-0.272434</td>\n",
              "      <td>0.410525</td>\n",
              "      <td>Down</td>\n",
              "      <td>MOMO Soundz</td>\n",
              "      <td>0</td>\n",
              "      <td>5</td>\n",
              "    </tr>\n",
              "    <tr>\n",
              "      <th>9</th>\n",
              "      <td>0.887433</td>\n",
              "      <td>-0.108055</td>\n",
              "      <td>-0.290896</td>\n",
              "      <td>0.332960</td>\n",
              "      <td>Kiss Me More (feat. SZA)</td>\n",
              "      <td>Doja Cat</td>\n",
              "      <td>0</td>\n",
              "      <td>1</td>\n",
              "    </tr>\n",
              "    <tr>\n",
              "      <th>10</th>\n",
              "      <td>0.271430</td>\n",
              "      <td>-0.485405</td>\n",
              "      <td>-0.291761</td>\n",
              "      <td>0.784660</td>\n",
              "      <td>Beggin'</td>\n",
              "      <td>Måneskin</td>\n",
              "      <td>0</td>\n",
              "      <td>1</td>\n",
              "    </tr>\n",
              "    <tr>\n",
              "      <th>...</th>\n",
              "      <td>...</td>\n",
              "      <td>...</td>\n",
              "      <td>...</td>\n",
              "      <td>...</td>\n",
              "      <td>...</td>\n",
              "      <td>...</td>\n",
              "      <td>...</td>\n",
              "      <td>...</td>\n",
              "    </tr>\n",
              "    <tr>\n",
              "      <th>20313</th>\n",
              "      <td>-0.203657</td>\n",
              "      <td>-0.644731</td>\n",
              "      <td>-0.291761</td>\n",
              "      <td>0.784660</td>\n",
              "      <td>Chained To The Rhythm</td>\n",
              "      <td>['Katy Perry', 'Skip Marley']</td>\n",
              "      <td>0</td>\n",
              "      <td>5</td>\n",
              "    </tr>\n",
              "    <tr>\n",
              "      <th>20314</th>\n",
              "      <td>-1.335009</td>\n",
              "      <td>2.456530</td>\n",
              "      <td>-0.291358</td>\n",
              "      <td>-2.473513</td>\n",
              "      <td>Places We Won't Walk</td>\n",
              "      <td>['Bruno Major']</td>\n",
              "      <td>0</td>\n",
              "      <td>3</td>\n",
              "    </tr>\n",
              "    <tr>\n",
              "      <th>20315</th>\n",
              "      <td>1.503436</td>\n",
              "      <td>-0.446971</td>\n",
              "      <td>-0.291761</td>\n",
              "      <td>0.967166</td>\n",
              "      <td>Cloudy Skies</td>\n",
              "      <td>['Lil Skies']</td>\n",
              "      <td>0</td>\n",
              "      <td>1</td>\n",
              "    </tr>\n",
              "    <tr>\n",
              "      <th>20316</th>\n",
              "      <td>-2.099980</td>\n",
              "      <td>2.260867</td>\n",
              "      <td>4.690503</td>\n",
              "      <td>-2.864695</td>\n",
              "      <td>White Noise - 700 hz</td>\n",
              "      <td>['Granular']</td>\n",
              "      <td>0</td>\n",
              "      <td>4</td>\n",
              "    </tr>\n",
              "    <tr>\n",
              "      <th>20317</th>\n",
              "      <td>0.847172</td>\n",
              "      <td>-0.080103</td>\n",
              "      <td>-0.291761</td>\n",
              "      <td>0.287334</td>\n",
              "      <td>El Amante</td>\n",
              "      <td>['Nicky Jam']</td>\n",
              "      <td>0</td>\n",
              "      <td>1</td>\n",
              "    </tr>\n",
              "  </tbody>\n",
              "</table>\n",
              "<p>20312 rows × 8 columns</p>\n",
              "</div>"
            ],
            "text/plain": [
              "       valence_scaled  acousticness_scaled  ...  playlist_track  cluster\n",
              "6            0.670021             0.241344  ...               0        0\n",
              "7            0.951852             0.108572  ...               0        0\n",
              "8           -0.155343            -0.881274  ...               0        5\n",
              "9            0.887433            -0.108055  ...               0        1\n",
              "10           0.271430            -0.485405  ...               0        1\n",
              "...               ...                  ...  ...             ...      ...\n",
              "20313       -0.203657            -0.644731  ...               0        5\n",
              "20314       -1.335009             2.456530  ...               0        3\n",
              "20315        1.503436            -0.446971  ...               0        1\n",
              "20316       -2.099980             2.260867  ...               0        4\n",
              "20317        0.847172            -0.080103  ...               0        1\n",
              "\n",
              "[20312 rows x 8 columns]"
            ]
          },
          "metadata": {
            "tags": []
          },
          "execution_count": 32
        }
      ]
    },
    {
      "cell_type": "code",
      "metadata": {
        "colab": {
          "base_uri": "https://localhost:8080/"
        },
        "id": "WbYsMn5K6X15",
        "outputId": "05eab643-92b0-455a-9eb1-9a3478d75189"
      },
      "source": [
        "relevant_clusters"
      ],
      "execution_count": null,
      "outputs": [
        {
          "output_type": "execute_result",
          "data": {
            "text/plain": [
              "0    2\n",
              "1    1\n",
              "2    0\n",
              "3    3\n",
              "4    1\n",
              "5    0\n",
              "Name: cluster, dtype: int32"
            ]
          },
          "metadata": {
            "tags": []
          },
          "execution_count": 33
        }
      ]
    },
    {
      "cell_type": "code",
      "metadata": {
        "colab": {
          "base_uri": "https://localhost:8080/"
        },
        "id": "4PLjkXX1iy99",
        "outputId": "65c9c930-7de9-41ed-93a6-29b17fa1a693"
      },
      "source": [
        "# return one random recommendation from each cluster\n",
        "recs=[]\n",
        "for k in relevant_clusters:\n",
        "    recs +=pred_df[['name', 'artists']][pred_df.cluster==k].sample(1).values.tolist()\n",
        "    pred_df.drop(pred_df[['name', 'artists']][pred_df.cluster==k].sample(1).index,inplace=True)\n",
        "\n",
        "print(' similar to your playlist:\\n')\n",
        "for song in recs:\n",
        "    print(song[0]+', by '+ song[1])"
      ],
      "execution_count": null,
      "outputs": [
        {
          "output_type": "stream",
          "text": [
            " similar to your playlist:\n",
            "\n",
            "Bleed, by ['Meshuggah']\n",
            "Good Lovin, by ['Ludacris', 'Miguel']\n",
            "Toxic, by ['YoungBoy Never Broke Again']\n",
            "Dead Inside (Interlude), by ['XXXTENTACION']\n",
            "Warning, by ['Green Day']\n",
            "I Can See Clearly Now, by ['Johnny Nash']\n"
          ],
          "name": "stdout"
        }
      ]
    },
    {
      "cell_type": "code",
      "metadata": {
        "id": "ihwW_adhU8ax"
      },
      "source": [
        "from google.colab import drive\n",
        "drive.mount('/content/drive')"
      ],
      "execution_count": null,
      "outputs": []
    },
    {
      "cell_type": "code",
      "metadata": {
        "id": "UcNlkqM4lCsx"
      },
      "source": [
        "rec=[]\n",
        "rec_track=[]\n",
        "for song in recs:\n",
        "  sd=spotify.search(song[0])\n",
        "  uri=sd['tracks']['items'][0][\"uri\"]\n",
        "  uri=uri.replace(\"spotify:track:\",\"\")\n",
        "  track=getTrackFeatures(uri)\n",
        "    \n",
        "  rec_track.append(track)  \n",
        "        \n",
        "\n",
        "\n",
        "rec_df = pd.DataFrame(rec_track, columns =  [\"valence\",\"acousticness\",\"artists\",\"danceability\",\"duration_ms\",\"energy\",\"explicit\",\"id\",\"instrumentalness\",\"loudness\",\"key\",\"liveness\",\"mode\",\"name\",\"popularity\",\"release_date\",\"speechiness\",\"tempo\"])\n",
        "rec_df['year'] = pd.DatetimeIndex(playlist_df['release_date']).year\n",
        "year= rec_df['year']\n",
        "rec_df.drop(labels=['year'], axis=1, inplace = True)\n",
        "rec_df.insert(2, 'year', year)    \n",
        "\n"
      ],
      "execution_count": null,
      "outputs": []
    },
    {
      "cell_type": "code",
      "metadata": {
        "colab": {
          "base_uri": "https://localhost:8080/",
          "height": 368
        },
        "id": "0GogYRWgnM_V",
        "outputId": "7a322be5-c2a5-4fad-a5e5-1bb5f84b7bd0"
      },
      "source": [
        "rec_df,names"
      ],
      "execution_count": null,
      "outputs": [
        {
          "output_type": "execute_result",
          "data": {
            "text/html": [
              "<div>\n",
              "<style scoped>\n",
              "    .dataframe tbody tr th:only-of-type {\n",
              "        vertical-align: middle;\n",
              "    }\n",
              "\n",
              "    .dataframe tbody tr th {\n",
              "        vertical-align: top;\n",
              "    }\n",
              "\n",
              "    .dataframe thead th {\n",
              "        text-align: right;\n",
              "    }\n",
              "</style>\n",
              "<table border=\"1\" class=\"dataframe\">\n",
              "  <thead>\n",
              "    <tr style=\"text-align: right;\">\n",
              "      <th></th>\n",
              "      <th>valence</th>\n",
              "      <th>acousticness</th>\n",
              "      <th>year</th>\n",
              "      <th>artists</th>\n",
              "      <th>danceability</th>\n",
              "      <th>duration_ms</th>\n",
              "      <th>energy</th>\n",
              "      <th>explicit</th>\n",
              "      <th>id</th>\n",
              "      <th>instrumentalness</th>\n",
              "      <th>loudness</th>\n",
              "      <th>key</th>\n",
              "      <th>liveness</th>\n",
              "      <th>mode</th>\n",
              "      <th>name</th>\n",
              "      <th>popularity</th>\n",
              "      <th>release_date</th>\n",
              "      <th>speechiness</th>\n",
              "      <th>tempo</th>\n",
              "    </tr>\n",
              "  </thead>\n",
              "  <tbody>\n",
              "    <tr>\n",
              "      <th>0</th>\n",
              "      <td>0.225</td>\n",
              "      <td>0.1880</td>\n",
              "      <td>2017</td>\n",
              "      <td>Leona Lewis</td>\n",
              "      <td>0.638</td>\n",
              "      <td>262466</td>\n",
              "      <td>0.6560</td>\n",
              "      <td>False</td>\n",
              "      <td>7wZUrN8oemZfsEd1CGkbXE</td>\n",
              "      <td>0.000000</td>\n",
              "      <td>-5.886</td>\n",
              "      <td>5</td>\n",
              "      <td>0.1460</td>\n",
              "      <td>1</td>\n",
              "      <td>Bleeding Love</td>\n",
              "      <td>75</td>\n",
              "      <td>2007</td>\n",
              "      <td>0.0357</td>\n",
              "      <td>104.036</td>\n",
              "    </tr>\n",
              "    <tr>\n",
              "      <th>1</th>\n",
              "      <td>0.589</td>\n",
              "      <td>0.2940</td>\n",
              "      <td>2017</td>\n",
              "      <td>Ludacris</td>\n",
              "      <td>0.619</td>\n",
              "      <td>223440</td>\n",
              "      <td>0.7540</td>\n",
              "      <td>True</td>\n",
              "      <td>3aeSTu6ejN2BU8YywEcHWO</td>\n",
              "      <td>0.000003</td>\n",
              "      <td>-5.231</td>\n",
              "      <td>0</td>\n",
              "      <td>0.1090</td>\n",
              "      <td>1</td>\n",
              "      <td>Good Lovin</td>\n",
              "      <td>56</td>\n",
              "      <td>2015-03-31</td>\n",
              "      <td>0.2320</td>\n",
              "      <td>83.464</td>\n",
              "    </tr>\n",
              "    <tr>\n",
              "      <th>2</th>\n",
              "      <td>0.924</td>\n",
              "      <td>0.0249</td>\n",
              "      <td>2017</td>\n",
              "      <td>Britney Spears</td>\n",
              "      <td>0.774</td>\n",
              "      <td>198800</td>\n",
              "      <td>0.8380</td>\n",
              "      <td>False</td>\n",
              "      <td>6I9VzXrHxO9rA9A5euc8Ak</td>\n",
              "      <td>0.025000</td>\n",
              "      <td>-3.914</td>\n",
              "      <td>5</td>\n",
              "      <td>0.2420</td>\n",
              "      <td>0</td>\n",
              "      <td>Toxic</td>\n",
              "      <td>81</td>\n",
              "      <td>2003-11-13</td>\n",
              "      <td>0.1140</td>\n",
              "      <td>143.040</td>\n",
              "    </tr>\n",
              "    <tr>\n",
              "      <th>3</th>\n",
              "      <td>0.354</td>\n",
              "      <td>0.9730</td>\n",
              "      <td>2018</td>\n",
              "      <td>XXXTENTACION</td>\n",
              "      <td>0.461</td>\n",
              "      <td>86826</td>\n",
              "      <td>0.0279</td>\n",
              "      <td>True</td>\n",
              "      <td>2vQwlW8H1jFveGNXwZfJCV</td>\n",
              "      <td>0.002260</td>\n",
              "      <td>-21.992</td>\n",
              "      <td>0</td>\n",
              "      <td>0.1690</td>\n",
              "      <td>1</td>\n",
              "      <td>Dead Inside (Interlude)</td>\n",
              "      <td>62</td>\n",
              "      <td>2017-08-25</td>\n",
              "      <td>0.0412</td>\n",
              "      <td>88.388</td>\n",
              "    </tr>\n",
              "    <tr>\n",
              "      <th>4</th>\n",
              "      <td>0.268</td>\n",
              "      <td>0.4600</td>\n",
              "      <td>2021</td>\n",
              "      <td>Morgan Wallen</td>\n",
              "      <td>0.633</td>\n",
              "      <td>156746</td>\n",
              "      <td>0.6640</td>\n",
              "      <td>False</td>\n",
              "      <td>64SCQtbRtmO28ks1QhS3w5</td>\n",
              "      <td>0.000000</td>\n",
              "      <td>-5.037</td>\n",
              "      <td>10</td>\n",
              "      <td>0.1080</td>\n",
              "      <td>1</td>\n",
              "      <td>Warning</td>\n",
              "      <td>68</td>\n",
              "      <td>2021-01-08</td>\n",
              "      <td>0.0294</td>\n",
              "      <td>115.058</td>\n",
              "    </tr>\n",
              "    <tr>\n",
              "      <th>5</th>\n",
              "      <td>0.623</td>\n",
              "      <td>0.6330</td>\n",
              "      <td>2017</td>\n",
              "      <td>Johnny Nash</td>\n",
              "      <td>0.681</td>\n",
              "      <td>164733</td>\n",
              "      <td>0.3730</td>\n",
              "      <td>False</td>\n",
              "      <td>0DcrhZ12WcCqruCs8ibXSf</td>\n",
              "      <td>0.001130</td>\n",
              "      <td>-13.200</td>\n",
              "      <td>2</td>\n",
              "      <td>0.0751</td>\n",
              "      <td>1</td>\n",
              "      <td>I Can See Clearly Now - Edit</td>\n",
              "      <td>68</td>\n",
              "      <td>1972</td>\n",
              "      <td>0.0568</td>\n",
              "      <td>123.423</td>\n",
              "    </tr>\n",
              "  </tbody>\n",
              "</table>\n",
              "</div>"
            ],
            "text/plain": [
              "   valence  acousticness  year  ... release_date  speechiness    tempo\n",
              "0    0.225        0.1880  2017  ...         2007       0.0357  104.036\n",
              "1    0.589        0.2940  2017  ...   2015-03-31       0.2320   83.464\n",
              "2    0.924        0.0249  2017  ...   2003-11-13       0.1140  143.040\n",
              "3    0.354        0.9730  2018  ...   2017-08-25       0.0412   88.388\n",
              "4    0.268        0.4600  2021  ...   2021-01-08       0.0294  115.058\n",
              "5    0.623        0.6330  2017  ...         1972       0.0568  123.423\n",
              "\n",
              "[6 rows x 19 columns]"
            ]
          },
          "metadata": {
            "tags": []
          },
          "execution_count": 59
        }
      ]
    },
    {
      "cell_type": "code",
      "metadata": {
        "colab": {
          "background_save": true
        },
        "id": "9LSkYSZb75vk"
      },
      "source": [
        "rec_df.to_csv(\"rec_songs.csv\")"
      ],
      "execution_count": null,
      "outputs": []
    },
    {
      "cell_type": "code",
      "metadata": {
        "colab": {
          "background_save": true
        },
        "id": "ZpUcIQFMjtrM"
      },
      "source": [
        "from spotipy.oauth2 import SpotifyOAuth\n",
        "from spotipy.oauth2 import SpotifyClientCredentials\n"
      ],
      "execution_count": null,
      "outputs": []
    },
    {
      "cell_type": "code",
      "metadata": {
        "colab": {
          "background_save": true
        },
        "id": "mzuAWNV0koE4"
      },
      "source": [
        "scope = \"user-library-read playlist-modify-public\"\n",
        "OAuth = SpotifyOAuth(\n",
        "        scope=scope,         \n",
        "        redirect_uri='https://colab.research.google.com/drive/1lV6loJctbZydzo4JLNuaeAhxSLpULMKo#scrollTo=UcNlkqM4lCsx',\n",
        "        client_id = '7573e000a6a54da2acaef0edd94a3236',\n",
        "        client_secret ='632231db7c1244c88614a03b231691fa',\n",
        "        username= 'Diya')"
      ],
      "execution_count": null,
      "outputs": []
    }
  ]
}